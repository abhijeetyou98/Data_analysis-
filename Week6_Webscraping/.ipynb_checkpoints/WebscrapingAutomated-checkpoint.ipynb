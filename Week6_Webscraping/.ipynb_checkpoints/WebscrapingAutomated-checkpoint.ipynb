{
 "cells": [
  {
   "cell_type": "code",
   "execution_count": 3,
   "metadata": {},
   "outputs": [],
   "source": [
    "import numpy as np\n",
    "import scipy\n",
    "import scipy.optimize as scopt\n",
    "import pandas as pd\n",
    "import matplotlib.pyplot as plt\n",
    "\n",
    "import requests as re\n",
    "import bs4\n",
    "\n",
    "import win32com.client\n",
    "import os"
   ]
  },
  {
   "cell_type": "code",
   "execution_count": 4,
   "metadata": {},
   "outputs": [],
   "source": [
    "path = os.path.join(os.getcwd(), \"SaturationPressures.xlsx\")\n",
    "xl = win32com.client.Dispatch(\"Excel.Application\")\n",
    "xl.Visible = 1\n",
    "wb = xl.Workbooks.Open(path)\n",
    "sheet = wb.Sheets(\"FittedParameters\")"
   ]
  },
  {
   "cell_type": "code",
   "execution_count": 5,
   "metadata": {},
   "outputs": [
    {
     "ename": "NameError",
     "evalue": "name 'table' is not defined",
     "output_type": "error",
     "traceback": [
      "\u001b[1;31m---------------------------------------------------------------------------\u001b[0m",
      "\u001b[1;31mNameError\u001b[0m                                 Traceback (most recent call last)",
      "\u001b[1;32m<ipython-input-5-e1865c3cba29>\u001b[0m in \u001b[0;36m<module>\u001b[1;34m\u001b[0m\n\u001b[0;32m     14\u001b[0m             \u001b[1;32mif\u001b[0m \u001b[0mtable\u001b[0m\u001b[1;33m[\u001b[0m\u001b[1;34m\"aria-label\"\u001b[0m\u001b[1;33m]\u001b[0m\u001b[1;33m==\u001b[0m\u001b[1;34m\"Antoine Equation Parameters\"\u001b[0m\u001b[1;33m:\u001b[0m\u001b[1;33m\u001b[0m\u001b[1;33m\u001b[0m\u001b[0m\n\u001b[0;32m     15\u001b[0m                 \u001b[1;32mbreak\u001b[0m\u001b[1;33m\u001b[0m\u001b[1;33m\u001b[0m\u001b[0m\n\u001b[1;32m---> 16\u001b[1;33m         \u001b[0mrows\u001b[0m \u001b[1;33m=\u001b[0m \u001b[0mtable\u001b[0m\u001b[1;33m.\u001b[0m\u001b[0mfindAll\u001b[0m\u001b[1;33m(\u001b[0m\u001b[1;34m\"tr\"\u001b[0m\u001b[1;33m)\u001b[0m\u001b[1;33m[\u001b[0m\u001b[1;36m1\u001b[0m\u001b[1;33m:\u001b[0m\u001b[1;33m]\u001b[0m\u001b[1;33m\u001b[0m\u001b[1;33m\u001b[0m\u001b[0m\n\u001b[0m\u001b[0;32m     17\u001b[0m         \u001b[0mTdata\u001b[0m\u001b[1;33m,\u001b[0m \u001b[0mlnPdata\u001b[0m \u001b[1;33m=\u001b[0m \u001b[1;33m[\u001b[0m\u001b[1;33m]\u001b[0m\u001b[1;33m,\u001b[0m \u001b[1;33m[\u001b[0m\u001b[1;33m]\u001b[0m\u001b[1;33m\u001b[0m\u001b[1;33m\u001b[0m\u001b[0m\n\u001b[0;32m     18\u001b[0m         \u001b[1;32mfor\u001b[0m \u001b[0mi\u001b[0m \u001b[1;32min\u001b[0m \u001b[0mrange\u001b[0m\u001b[1;33m(\u001b[0m\u001b[0mlen\u001b[0m\u001b[1;33m(\u001b[0m\u001b[0mrows\u001b[0m\u001b[1;33m)\u001b[0m\u001b[1;33m)\u001b[0m\u001b[1;33m:\u001b[0m\u001b[1;33m\u001b[0m\u001b[1;33m\u001b[0m\u001b[0m\n",
      "\u001b[1;31mNameError\u001b[0m: name 'table' is not defined"
     ]
    }
   ],
   "source": [
    "bool_go = True\n",
    "irow = 2\n",
    "while bool_go:\n",
    "    CAS = sheet.Range(f\"B{irow}\").Value\n",
    "    if CAS == None:\n",
    "        bool_go = False\n",
    "    else:\n",
    "        CAS = int(CAS)\n",
    "        url = f\"https://webbook.nist.gov/cgi/cbook.cgi?ID=C{CAS}&Mask=4#Thermo-Phase\"\n",
    "        page = re.get(url)\n",
    "        page = bs4.BeautifulSoup(page.text)\n",
    "\n",
    "        tables = page.findAll(\"table\")\n",
    "        for table in tables:\n",
    "            if table[\"aria-label\"]==\"Antoine Equation Parameters\":\n",
    "                break\n",
    "        rows = table.findAll(\"tr\")[1:]\n",
    "        Tdata, lnPdata = [], []\n",
    "        for i in range(len(rows)):\n",
    "            dict_params = {}\n",
    "            cells = rows[i].findAll(\"td\")\n",
    "            Trange = cells[0].text.split('-'); Tmin = float(Trange[0]); Tmax = float(Trange[1])\n",
    "            A = float(cells[1].text)\n",
    "            B = float(cells[2].text)\n",
    "            C = float(cells[3].text)\n",
    "            dict_params[\"Tmin\"] = Tmin\n",
    "            dict_params[\"Tmax\"] = Tmax\n",
    "            dict_params[\"A\"] = A\n",
    "            dict_params[\"B\"] = B\n",
    "            dict_params[\"C\"] = C\n",
    "            listT = np.linspace(Tmin, Tmax, 10)\n",
    "            listln10P = A - B/(listT + C)\n",
    "            listlnPbar = (listln10P + 5)*np.log(10.0)\n",
    "            Tdata += list(listT)\n",
    "            lnPdata += list(listlnPbar)\n",
    "\n",
    "        Tdata = np.array(Tdata)\n",
    "        lnPdata = np.array(lnPdata)\n",
    "\n",
    "        def lnP(T, parameters):\n",
    "            [A, B, C, D, E] = parameters\n",
    "            lnP = A + B/T + C*np.log(T) + D*T**E\n",
    "            return lnP\n",
    "\n",
    "        def residuallnP(parameters, Tdata, lnPdata):\n",
    "            parameters[-1] = 2\n",
    "            lnPcalc = lnP(Tdata, parameters)\n",
    "            return lnPcalc - lnPdata\n",
    "        parametersguess = [1, 1, 1, 1, 1]\n",
    "        parameters = scopt.least_squares(residuallnP, parametersguess,\n",
    "                                  args = (Tdata, lnPdata,)).x\n",
    "        errors = np.array(residuallnP(parameters, Tdata, lnPdata))\n",
    "        RMSD = np.sqrt((errors**2).mean())\n",
    "        [A, B, C, D, E] = parameters\n",
    "        Tmin = min(Tdata)\n",
    "        Tmax = max(Tdata)\n",
    "        data = np.array([A, B, C, D, E, Tmin, Tmax, RMSD])\n",
    "        sheet.Range(f\"C{irow}:J{irow}\").Value = data\n",
    "        \n",
    "    irow += 1\n",
    "\n"
   ]
  },
  {
   "cell_type": "code",
   "execution_count": 70,
   "metadata": {},
   "outputs": [
    {
     "data": {
      "text/plain": [
       "[<matplotlib.lines.Line2D at 0x1cda575f1c8>]"
      ]
     },
     "execution_count": 70,
     "metadata": {},
     "output_type": "execute_result"
    },
    {
     "data": {
      "image/png": "[encoded data removed]",
      "text/plain": [
       "<Figure size 432x288 with 1 Axes>"
      ]
     },
     "metadata": {
      "needs_background": "light"
     },
     "output_type": "display_data"
    }
   ],
   "source": [
    "plt.plot(Tdata, lnPdata, 'ro')\n",
    "Tmin = min(Tdata)\n",
    "Tmax = max(Tdata)\n",
    "T = np.linspace(Tmin, Tmax, 100)\n",
    "plt.plot(T, lnP(T, parameters))"
   ]
  },
  {
   "cell_type": "code",
   "execution_count": 71,
   "metadata": {},
   "outputs": [
    {
     "data": {
      "text/plain": [
       "(['287.70 ', ' 354.07'], 287.7, 554.8)"
      ]
     },
     "execution_count": 71,
     "metadata": {},
     "output_type": "execute_result"
    }
   ],
   "source": [
    "Trange, Tmin, Tmax"
   ]
  },
  {
   "cell_type": "code",
   "execution_count": 72,
   "metadata": {},
   "outputs": [
    {
     "data": {
      "text/plain": [
       "array([ 7.45133651e+01, -6.14768876e+03, -7.88721851e+00,  5.56448875e-06,\n",
       "        2.00000000e+00])"
      ]
     },
     "execution_count": 72,
     "metadata": {},
     "output_type": "execute_result"
    }
   ],
   "source": [
    "parameters"
   ]
  },
  {
   "cell_type": "code",
   "execution_count": 8,
   "metadata": {},
   "outputs": [
    {
     "data": {
      "text/plain": [
       "'https://webbook.nist.gov/cgi/cbook.cgi?ID=C71432.0&Mask=4#Thermo-Phase'"
      ]
     },
     "execution_count": 8,
     "metadata": {},
     "output_type": "execute_result"
    }
   ],
   "source": [
    "url"
   ]
  },
  {
   "cell_type": "code",
   "execution_count": null,
   "metadata": {},
   "outputs": [],
   "source": []
  }
 ],
 "metadata": {
  "kernelspec": {
   "display_name": "Python 3",
   "language": "python",
   "name": "python3"
  },
  "language_info": {
   "codemirror_mode": {
    "name": "ipython",
    "version": 3
   },
   "file_extension": ".py",
   "mimetype": "text/x-python",
   "name": "python",
   "nbconvert_exporter": "python",
   "pygments_lexer": "ipython3",
   "version": "3.7.6"
  }
 },
 "nbformat": 4,
 "nbformat_minor": 4
}
