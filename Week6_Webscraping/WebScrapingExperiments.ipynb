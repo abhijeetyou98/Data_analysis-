{
 "cells": [
  {
   "cell_type": "code",
   "execution_count": 95,
   "metadata": {},
   "outputs": [],
   "source": [
    "import numpy as np\n",
    "import pandas as pd\n",
    "import requests as re\n",
    "import bs4\n",
    "import matplotlib.pyplot as plt"
   ]
  },
  {
   "cell_type": "code",
   "execution_count": 54,
   "metadata": {},
   "outputs": [],
   "source": [
    "url = \"https://webbook.nist.gov/cgi/cbook.cgi?ID=C71432&Mask=4#Thermo-Phase\""
   ]
  },
  {
   "cell_type": "code",
   "execution_count": 55,
   "metadata": {},
   "outputs": [],
   "source": [
    "page = re.get(url)\n"
   ]
  },
  {
   "cell_type": "code",
   "execution_count": 58,
   "metadata": {},
   "outputs": [
    {
     "data": {
      "text/plain": [
       "'\\n\\n\\n\\nBenzene\\n\\n\\n\\n\\n\\n\\n\\n\\n\\n\\n\\n\\n\\n\\n\\n\\n\\n\\n\\n\\n\\n\\n\\n\\n\\n\\n\\nsvg4everybody();\\n\\n\\n\\n\\nJump to content\\n\\n\\n\\n\\nNational Institute of Standards and\\nTechnology\\n\\nNIST Chemistry\\n  WebBook, SRD 69\\n\\n\\n\\n\\n\\nHome\\n\\n\\n\\n\\n\\nSearch\\n\\n\\n\\n            Name\\n\\n\\n\\n            Formula\\n\\n\\n\\n            IUPAC identifier\\n\\n\\n\\n            CAS number\\n\\n\\n\\n            More options\\n\\n\\n\\n\\nNIST Data\\n\\n\\nSRD Program\\n          \\n\\n\\nScience Data Portal\\n          \\n\\n\\nOffice of Data\\n            and Informatics\\n          \\n\\n\\n\\n\\nAbout\\n\\n\\n\\n          FAQ\\n\\n\\n\\n            Credits\\n\\n\\n\\n            More documentation\\n\\n\\n\\n\\n\\n\\n\\nBenzene\\n\\nFormula: C6H6\\nMolecular weight: 78.1118\\n\\n\\nIUPAC Standard InChI:\\nInChI=1S/C6H6/c1-2-4-6-5-3-1/h1-6H\\n\\nCopy\\n\\n\\n\\n\\n\\n\\n\\n\\n\\n\\nIUPAC Standard InChIKey:\\nUHOVQNZJYSORNB-UHFFFAOYSA-N\\n\\nCopy\\n\\n\\n\\n\\n\\nCAS Registry Number: 71-43-2\\nChemical structure: \\n\\nThis structure is also available as a 2d Mol file\\n\\n\\nor as a computed\\n3d SD file\\n\\nThe 3d structure may be viewed using\\nJava\\nor\\nJavascript.\\n\\n\\n\\nIsotopologues:\\n\\nBenzene-D6\\n\\n\\nOther names:\\n[6]Annulene;\\nBenzol;\\nBenzole;\\nCoal naphtha;\\nCyclohexatriene;\\nPhenyl hydride;\\nPyrobenzol;\\nPyrobenzole;\\nBenzolene;\\nBicarburet of hydrogen;\\nCarbon oil;\\nMineral naphtha;\\nMotor benzol;\\nBenzeen;\\nBenzen;\\nBenzin;\\nBenzine;\\nBenzolo;\\nFenzen;\\nNCI-C55276;\\nPhene;\\nRcra waste number U019;\\nUN 1114;\\nNSC 67315;\\n1,3,5-Cyclohexatriene\\n\\n\\nPermanent link\\n for this species. Use this link for bookmarking this species\\nfor future reference.\\n\\nInformation on this page:\\n\\nPhase change data\\nReferences\\nNotes\\n\\nOther data available:\\n\\nGas phase thermochemistry data\\nCondensed phase thermochemistry data\\nReaction thermochemistry data:\\nreactions 1 to 50,\\nreactions 51 to 99\\nHenry\\'s Law data\\nGas phase ion energetics data\\nIon clustering data\\nIR Spectrum\\nMass spectrum (electron ionization)\\nUV/Visible spectrum\\nVibrational and/or electronic energy levels\\nGas Chromatography\\nFluid Properties\\n\\nData at other public NIST sites:\\n\\nElectron-Impact Ionization Cross Sections (on physics web site)\\nComputational Chemistry Comparison and Benchmark Database\\nGas Phase Kinetics Database\\nX-ray Photoelectron Spectroscopy Database, version 4.1\\nNIST Polycyclic Aromatic Hydrocarbon Structure Index\\n\\nOptions:\\n\\nSwitch to calorie-based units\\n\\n\\nData at NIST subscription sites:\\n\\nNIST / TRC Web Thermo Tables, \"lite\" edition (thermophysical and thermochemical data)\\nNIST / TRC Web Thermo Tables, professional edition (thermophysical and thermochemical data)\\n\\n\\nNIST subscription sites provide data under the\\nNIST Standard Reference\\nData Program, but require an annual fee to access.\\nThe purpose of the fee is to recover costs associated\\nwith the development of data collections included in\\nsuch sites. Your institution may already be a subscriber.\\nFollow the links above to find out more about the data\\nin these sites and their terms of usage.\\n\\n\\nPhase change data\\nGo To: Top, References, Notes\\n\\nData compilation copyright\\nby the U.S. Secretary of Commerce on behalf of the U.S.A.\\nAll rights reserved.\\n\\nData compiled as indicated in comments:\\nTRC - Thermodynamics Research Center, NIST Boulder Laboratories, Chris Muzny director\\nBS - Robert L. Brown and Stephen E. Stein\\nDRB - Donald R. Burgess, Jr.\\nALS - Hussein Y. Afeefy, Joel F. Liebman, and Stephen E. Stein\\nAC - William E. Acree, Jr., James S. Chickos\\nDH - Eugene S. Domalski and Elizabeth D. Hearing\\n\\n\\nQuantity\\nValue\\nUnits\\nMethod\\nReference\\nComment\\n\\nTboil353.3 ± 0.1KAVGN/AAverage of 147 out of 183 values; Individual data points\\n\\nQuantity\\nValue\\nUnits\\nMethod\\nReference\\nComment\\n\\nTfus278.64 ± 0.08KAVGN/AAverage of 57 out of 69 values; Individual data points\\n\\nQuantity\\nValue\\nUnits\\nMethod\\nReference\\nComment\\n\\nTtriple278.5 ± 0.6KAVGN/AAverage of 9 values; Individual data points\\n\\nQuantity\\nValue\\nUnits\\nMethod\\nReference\\nComment\\n\\nTc562.0 ± 0.8KAVGN/AAverage of 36 out of 41 values; Individual data points\\n\\nQuantity\\nValue\\nUnits\\nMethod\\nReference\\nComment\\n\\nPc48.9 ± 0.4barAVGN/AAverage of 24 out of 26 values; Individual data points\\n\\nQuantity\\nValue\\nUnits\\nMethod\\nReference\\nComment\\n\\nVc0.25 ± 0.03l/molAVGN/AAverage of 6 values; Individual data points\\n\\nQuantity\\nValue\\nUnits\\nMethod\\nReference\\nComment\\n\\nρc3.9 ± 0.2mol/lAVGN/AAverage of 12 values; Individual data points\\n\\nQuantity\\nValue\\nUnits\\nMethod\\nReference\\nComment\\n\\nΔvapH°33.9 ± 0.1kJ/molAVGN/AAverage of 10 out of 11 values; Individual data points\\n\\nQuantity\\nValue\\nUnits\\nMethod\\nReference\\nComment\\n\\nΔsubH°44.4kJ/molTE,MEKruif, 1980Based on data from 183. - 197. K.; AC\\n\\nEnthalpy of vaporization\\n\\nΔvapH (kJ/mol)\\nTemperature (K)\\nMethod\\nReference\\nComment\\n\\n30.72353.3N/AMajer and Svoboda, 1985\\xa0\\n33.2320.N/ALubomska, Banas, et al., 2002Based on data from 305. - 345. K.; AC\\n35.6258. - 313.GCLiu and Dickhut, 1994AC\\n33.5311.EBAmbrose, Ewing, et al., 1990Based on data from 296. - 377. K.; AC\\n33.4307.CDong, Lin, et al., 1988AC\\n33.1314.CDong, Lin, et al., 1988AC\\n32.4324.CDong, Lin, et al., 1988AC\\n31.9332.CDong, Lin, et al., 1988AC\\n31.4344.CDong, Lin, et al., 1988AC\\n30.6353.CDong, Lin, et al., 1988AC\\n34.4294.AStephenson and Malanowski, 1987Based on data from 279. - 377. K.; AC\\n31.5368.AStephenson and Malanowski, 1987Based on data from 353. - 422. K.; AC\\n30.2435.AStephenson and Malanowski, 1987Based on data from 420. - 502. K.; AC\\n30.3516.AStephenson and Malanowski, 1987Based on data from 501. - 562. K.; AC\\n30.8352.N/ANatarajan, 1983AC\\n30.5361.N/ANatarajan, 1983AC\\n30.2366.N/ANatarajan, 1983AC\\n35.3343.N/ATsonopoulos and Wilson, 1983Based on data from 313. - 373. K.; AC\\n31.350.N/ARao and Viswanath, 1977AC\\n33.0 ± 0.1313.CSvoboda, Veselý, et al., 1973AC\\n32.2 ± 0.1328.CSvoboda, Veselý, et al., 1973AC\\n31.8 ± 0.1333.CSvoboda, Veselý, et al., 1973AC\\n31.4 ± 0.1343.CSvoboda, Veselý, et al., 1973AC\\n30.9 ± 0.1353.CSvoboda, Veselý, et al., 1973AC\\n32.6 ± 0.4313.DSCMita, Imai, et al., 1971AC\\n32.5 ± 0.5328.DSCMita, Imai, et al., 1971AC\\n31.6 ± 0.4345.DSCMita, Imai, et al., 1971AC\\n34.1299.N/AForziati, Norris, et al., 1949Based on data from 284. - 354. K.; AC\\n34.1293.N/AYarym-Agaev, Fedos\\'ev, et al., 1949AC\\n34.1297.N/AThomson, 1946Based on data from 282. - 354. K.; AC\\n31.2294.N/AScott and Brickwedde, 1945AC\\n34.1303.MMWillingham, Taylor, et al., 1945Based on data from 288. - 354. K.; AC\\n33.4313.EBSmith, 1941Based on data from 298. - 373. K.; AC\\n34.5288.N/AStuckey and Saylor, 1940Based on data from 273. - 348. K.; AC\\n\\nEnthalpy of vaporization\\n\\nΔvapH = A exp(-αTr)\\n (1 − Tr)β\\n \\xa0 \\xa0 ΔvapH =\\n Enthalpy of vaporization  (at saturation pressure)\\n (kJ/mol)\\n \\xa0 \\xa0 Tr = reduced temperature (T / Tc)\\n\\nView plot\\nRequires a JavaScript / HTML 5 canvas capable browser.\\n\\n\\n\\n\\n\\nTemperature (K)\\n293. - 469.\\nA (kJ/mol)\\n47.41\\nα\\n0.1231\\nβ\\n0.3602\\nTc (K)\\n562.1\\nReferenceMajer and Svoboda, 1985\\n\\nAntoine Equation Parameters\\n\\nlog10(P) = A − (B / (T + C))\\n\\xa0 \\xa0 P = vapor pressure (bar)\\n\\xa0 \\xa0 T = temperature (K)\\n\\n\\nView plot\\nRequires a JavaScript / HTML 5 canvas capable browser.\\n\\n\\nTemperature (K)\\nA\\nB\\nC\\nReference\\nComment\\n\\n333.4 - 373.54.725831660.652-1.461Eon, Pommier, et al., 1971Coefficents calculated by NIST from author\\'s data.\\n297.9 - 318.0.1459139.165-261.236Deshpande and Pandya, 1967Coefficents calculated by NIST from author\\'s data.\\n421.56 - 554.84.603621701.07320.806Kalafati, Rasskazov, et al., 1967Coefficents calculated by NIST from author\\'s data.\\n287.70 - 354.074.018141203.835-53.226Williamham, Taylor, et al., 1945\\xa0\\n\\nEnthalpy of sublimation\\n\\nΔsubH (kJ/mol)\\nTemperature (K)\\nMethod\\nReference\\nComment\\n\\n41.7258. - 273.N/ALiu and Dickhut, 1994AC\\n45.2264.AStephenson and Malanowski, 1987Based on data from 223. - 279. K. See also  Ha, Morrison, et al., 1976.; AC\\n45.1278.N/AHessler, 1984AC\\n53.9 ± 0.8193.N/ADe Kruif and Van Ginkel, 1977AC\\n49.4 ± 0.4193.N/ADe Kruif and Van Ginkel, 1977AC\\n45.6279.MMJackowski, 1974Based on data from 221. - 268. K.; AC\\n44.1261.N/AJones, 1960AC\\n43.1229.N/AJones, 1960AC\\n44.6279.N/AMilazzo, 1956AC\\n46.6282.AStull, 1947Based on data from 263. - 270. K.; AC\\n38.303.VWolf and Weghofer, 1938ALS\\n44.6273.N/Ade Boer, 1936See also  Jackowski, 1974.; AC\\n43.3226.AMündel, 1913Based on data from 214. - 238. K.; AC\\n\\nEnthalpy of fusion\\n\\nΔfusH (kJ/mol)\\nTemperature (K)\\nMethod\\nReference\\nComment\\n\\n9.8663278.69N/AOliver, Eaton, et al., 1948DH\\n9.916278.65N/AZiegler and Andrews, 1942DH\\n9.87278.7CDomalski and Hearing, 1996See also  Andrews, Lynn, et al., 1926 and  Ziegler and Andrews, 1942.; AC\\n9.300279.1N/ASmith, 1979DH\\n8.950278.8N/APacor, 1967DH\\n9.937278.6N/ATschamler, 1948DH\\n9.803278.6N/AHuffman, Parks, et al., 1930DH\\n9.875278.55N/AAndrews, Lynn, et al., 1926DH\\n10.000278.64N/AMaass and Walbauer, 1925DH\\n\\nEntropy of fusion\\n\\nΔfusS (J/mol*K)\\nTemperature (K)\\nReference\\nComment\\n\\n35.40278.69Oliver, Eaton, et al., 1948DH\\n35.59278.65Ziegler and Andrews, 1942DH\\n33.3279.1Smith, 1979DH\\n32.1278.8Pacor, 1967DH\\n35.19278.6Huffman, Parks, et al., 1930DH\\n35.5278.55Andrews, Lynn, et al., 1926DH\\n35.9278.64Maass and Walbauer, 1925DH\\n\\n\\n\\nIn addition to the Thermodynamics Research Center\\n(TRC) data available from this site, much more physical\\nand chemical property data is available from the\\nfollowing TRC products:\\n\\n\\n\\nSRD 103a – Thermo Data Engine (TDE) for pure compounds.\\n \\nSRD 103b – Thermo Data Engine (TDE) for pure compounds,\\nbinary mixtures and chemical reactions\\n\\nSRSD 2 – Web Thermo Tables (WTT), \"lite\" edition\\n\\nSRSD 3 – Web Thermo Tables (WTT), professional edition\\n\\nSRD 147 – Ionic Liquids Database\\n \\nSRD 156 – Clathrate Hydrate Physical Property Database\\n\\n\\n\\nReferences\\nGo To: Top, Phase change data, Notes\\n\\nData compilation copyright\\nby the U.S. Secretary of Commerce on behalf of the U.S.A.\\nAll rights reserved.\\n\\n\\nKruif, 1980\\n\\nKruif, C.G.,\\nEnthalpies of sublimation and vapour pressures of 11 polycyclic hydrocarbons,\\nJ. Chem. Thermodyn., 1980, 12, 243-248. [all data]\\n\\nMajer and Svoboda, 1985\\n\\nMajer, V.; Svoboda, V.,\\n\\nEnthalpies of Vaporization of Organic Compounds: A Critical Review and Data Compilation, Blackwell Scientific Publications, Oxford, 1985, 300. [all data]\\n\\nLubomska, Banas, et al., 2002\\n\\nLubomska, Monika; Banas, Agnieszka; Malanowski, Stanislaw K.,\\nVapor-Liquid Equilibrium in Binary Systems Formed by Allyl Alcohol with Benzene and with Cyclohexane,\\nJ. Chem. Eng. Data, 2002, 47, 6, 1466-1471, https://doi.org/10.1021/je025540l\\n. [all data]\\n\\nLiu and Dickhut, 1994\\n\\nLiu, Kewen; Dickhut, Rebecca M.,\\nSaturation vapor pressures and thermodynamic properties of benzene and selected chlorinated benzenes at environmental temperatures,\\nChemosphere, 1994, 29, 3, 581-589, https://doi.org/10.1016/0045-6535(94)90445-6\\n. [all data]\\n\\nAmbrose, Ewing, et al., 1990\\n\\nAmbrose, D.; Ewing, M.B.; Ghiassee, N.B.; Sanchez Ochoa, J.C.,\\nThe ebulliometric method of vapour-pressure measurement: vapour pressures of benzene, hexafluorobenzene, and naphthalene,\\nThe Journal of Chemical Thermodynamics, 1990, 22, 6, 589-605, https://doi.org/10.1016/0021-9614(90)90151-F\\n. [all data]\\n\\nDong, Lin, et al., 1988\\n\\nDong, Jin-Quan; Lin, Rui-Sen; Yen, Wen-Hsing,\\nHeats of vaporization and gaseous molar heat capacities of ethanol and the binary mixture of ethanol and benzene,\\nCan. J. Chem., 1988, 66, 4, 783-790, https://doi.org/10.1139/v88-136\\n. [all data]\\n\\nStephenson and Malanowski, 1987\\n\\nStephenson, Richard M.; Malanowski, Stanislaw,\\n\\nHandbook of the Thermodynamics of Organic Compounds, 1987, https://doi.org/10.1007/978-94-009-3173-2\\n. [all data]\\n\\nNatarajan, 1983\\n\\nNatarajan, G.,\\nHigh-temperature calorimeter for the measurement of vapor pressure and enthalpy of vaporization,\\nRev. Sci. Instrum., 1983, 54, 9, 1175, https://doi.org/10.1063/1.1137545\\n. [all data]\\n\\nTsonopoulos and Wilson, 1983\\n\\nTsonopoulos, Constantine; Wilson, G.M.,\\nHigh-temperature mutual solubilities of hydrocarbons and water. Part I: Benzene, cyclohexane andn-hexane,\\nAIChE J., 1983, 29, 6, 990-999, https://doi.org/10.1002/aic.690290618\\n. [all data]\\n\\nRao and Viswanath, 1977\\n\\nRao, Yaddanapudi J.; Viswanath, Dabir S.,\\nIntegral isobaric heats of vaporization of benzene-chloroethane systems,\\nJ. Chem. Eng. Data, 1977, 22, 1, 36-38, https://doi.org/10.1021/je60072a011\\n. [all data]\\n\\nSvoboda, Veselý, et al., 1973\\n\\nSvoboda, V.; Veselý, F.; Holub, R.; Pick, J.,\\nEnthalpy data of liquids. II. The dependence of heats of vaporization of methanol, propanol, butanol, cyclohexane, cyclohexene, and benzene on temperature,\\nCollect. Czech. Chem. Commun., 1973, 38, 12, 3539-3543, https://doi.org/10.1135/cccc19733539\\n. [all data]\\n\\nMita, Imai, et al., 1971\\n\\nMita, Itaru; Imai, Isao; Kambe, Hirotaro,\\nDetermination of heat of mixing and heat of vaporization with a differential scanning calorimeter,\\nThermochimica Acta, 1971, 2, 4, 337-344, https://doi.org/10.1016/0040-6031(71)85035-9\\n. [all data]\\n\\nForziati, Norris, et al., 1949\\n\\nForziati, Alphonse F.; Norris, William R.; Rossini, Frederick D.,\\nVapor pressures and boiling points of sixty API-NBS hydrocarbons,\\nJ. RES. NATL. BUR. STAN., 1949, 43, 6, 555-17, https://doi.org/10.6028/jres.043.050\\n. [all data]\\n\\nYarym-Agaev, Fedos\\'ev, et al., 1949\\n\\nYarym-Agaev, N.L.; Fedos\\'ev, N.N.; Skorikov, K.G.,\\nZh. Fiz. Khim., 1949, 11, 1257. [all data]\\n\\nThomson, 1946\\n\\nThomson, George Wm.,\\nThe Antoine Equation for Vapor-pressure Data.,\\nChem. Rev., 1946, 38, 1, 1-39, https://doi.org/10.1021/cr60119a001\\n. [all data]\\n\\nScott and Brickwedde, 1945\\n\\nScott, R.B.; Brickwedde, F.G.,\\nThermodynamic properties of solid and liquid ethylbenzene from 0 to 300 degrees K,\\nJ. RES. NATL. BUR. STAN., 1945, 35, 6, 501-17, https://doi.org/10.6028/jres.035.024\\n. [all data]\\n\\nWillingham, Taylor, et al., 1945\\n\\nWillingham, C.B.; Taylor, W.J.; Pignocco, J.M.; Rossini, F.D.,\\nVapor pressures and boiling points of some paraffin, alkylcyclopentane, alkylcyclohexane, and alkylbenzene hydrocarbons,\\nJ. RES. NATL. BUR. STAN., 1945, 35, 3, 219-17, https://doi.org/10.6028/jres.035.009\\n. [all data]\\n\\nSmith, 1941\\n\\nSmith, E.R.,\\nBoiling points of benzene, 2,2,3-trimethylbutane, 3-ethylpentane, and 2,2,4,4-tetramethylpentane within the range 100 to 1,500 millimeters of mercury,\\nJ. RES. NATL. BUR. STAN., 1941, 26, 2, 129-17, https://doi.org/10.6028/jres.026.004\\n. [all data]\\n\\nStuckey and Saylor, 1940\\n\\nStuckey, James M.; Saylor, John H.,\\nThe Vapor Pressures of Some Organic Compounds. I. 1,\\nJ. Am. Chem. Soc., 1940, 62, 11, 2922-2925, https://doi.org/10.1021/ja01868a011\\n. [all data]\\n\\nEon, Pommier, et al., 1971\\n\\nEon, C.; Pommier, C.; Guiochon, G.,\\nVapor pressures and second virial coefficients of some five-membered heterocyclic derivatives,\\nJ. Chem. Eng. Data, 1971, 16, 4, 408-410, https://doi.org/10.1021/je60051a008\\n. [all data]\\n\\nDeshpande and Pandya, 1967\\n\\nDeshpande, D.D.; Pandya, M.V.,\\nThermodynamics of Binary Solutions.  Part 2. Vapour Pressures and Excess Free Energies of Aniline Solutions,\\nTrans. Faraday Soc., 1967, 63, 2149-2157, https://doi.org/10.1039/tf9676302149\\n. [all data]\\n\\nKalafati, Rasskazov, et al., 1967\\n\\nKalafati, D.D.; Rasskazov, D.S.; Petrov, E.K.,\\nExperimental Determination of a Dependence of a Saturated Vapor Pressure of Benzene on Temperature,\\nZh. Fiz. Khim., 1967, 41, 1357-1359. [all data]\\n\\nWilliamham, Taylor, et al., 1945\\n\\nWilliamham, C.B.; Taylor, W.J.; Pignocco, J.M.; Rossini, F.D.,\\nVapor Pressures and Boiling Points of Some Paraffin, Alkylcyclopentane, Alkylcyclohexane, and Alkylbenzene Hydrocarbons,\\nJ. Res. Natl. Bur. Stand. (U.S.), 1945, 35, 3, 219-244, https://doi.org/10.6028/jres.035.009\\n. [all data]\\n\\nHa, Morrison, et al., 1976\\n\\nHa, H.; Morrison, J.A.; Richards, E.L.,\\nVapour pressures of solid benzene, cyclohexane and their mixtures,\\nJ. Chem. Soc., Faraday Trans. 1, 1976, 72, 0, 1051, https://doi.org/10.1039/f19767201051\\n. [all data]\\n\\nHessler, 1984\\n\\nHessler, W.,\\nWiss. Zeitschr. Wilhelm-Pieck-Univ. Rostock, Naturwiss. Reihe, 1984, 33, 9. [all data]\\n\\nDe Kruif and Van Ginkel, 1977\\n\\nDe Kruif, C.G.; Van Ginkel, C.H.D.,\\nTorsion-weighing effusion vapour-pressure measurements on organic compounds,\\nThe Journal of Chemical Thermodynamics, 1977, 9, 8, 725-730, https://doi.org/10.1016/0021-9614(77)90015-5\\n. [all data]\\n\\nJackowski, 1974\\n\\nJackowski, A.W.,\\nVapour pressures of solid benzene and of solid cyclohexane,\\nThe Journal of Chemical Thermodynamics, 1974, 6, 1, 49-52, https://doi.org/10.1016/0021-9614(74)90205-5\\n. [all data]\\n\\nJones, 1960\\n\\nJones, A.H.,\\nSublimation Pressure Data for Organic Compounds.,\\nJ. Chem. Eng. Data, 1960, 5, 2, 196-200, https://doi.org/10.1021/je60006a019\\n. [all data]\\n\\nMilazzo, 1956\\n\\nMilazzo, G.,\\nAnn. Chim. (Rome), 1956, 46, 1105. [all data]\\n\\nStull, 1947\\n\\nStull, Daniel R.,\\nVapor Pressure of Pure Substances. Organic and Inorganic Compounds,\\nInd. Eng. Chem., 1947, 39, 4, 517-540, https://doi.org/10.1021/ie50448a022\\n. [all data]\\n\\nWolf and Weghofer, 1938\\n\\nWolf, K.L.; Weghofer, H.,\\nUber sublimationswarmen,\\nZ. Phys. Chem., 1938, 39, 194-208. [all data]\\n\\nde Boer, 1936\\n\\nde Boer, J.H.,\\nThe influence of van der Waals\\' forces and primary bonds on binding energy, strength and orientation, with special reference to some artificial resins,\\nTrans. Faraday Soc., 1936, 32, 10, https://doi.org/10.1039/tf9363200010\\n. [all data]\\n\\nMündel, 1913\\n\\nMündel, C.F.,\\nZ. Phys. Chem., Stoechiom. Verwandtschaftsl., 1913, 85, 435. [all data]\\n\\nOliver, Eaton, et al., 1948\\n\\nOliver, G.D.; Eaton, M.; Huffman, H.M.,\\nThe heat capacity, heat of fusion and entropy of benzene,\\nJ. Am. Chem. Soc., 1948, 70, 1502-1505. [all data]\\n\\nZiegler and Andrews, 1942\\n\\nZiegler, W.T.; Andrews, D.H.,\\nThe heat capacity of benzene-d6,\\nJ. Am. Chem. Soc., 1942, 64, 2482-2485. [all data]\\n\\nDomalski and Hearing, 1996\\n\\nDomalski, Eugene S.; Hearing, Elizabeth D.,\\nHeat Capacities and Entropies of Organic Compounds in the Condensed Phase. Volume III,\\nJ. Phys. Chem. Ref. Data, 1996, 25, 1, 1, https://doi.org/10.1063/1.555985\\n. [all data]\\n\\nAndrews, Lynn, et al., 1926\\n\\nAndrews, D.H.; Lynn, G.; Johnston, J.,\\nThe heat capacities and heat of crystallization of some isomeric aromatic compounds,\\nJ. Am. Chem. Soc., 1926, 48, 1274-1287. [all data]\\n\\nSmith, 1979\\n\\nSmith, G.W.,\\nPhase behavior of some linear polyphenyls,\\nMol. Cryst. Liq. Cryst., 1979, 49, 207-209. [all data]\\n\\nPacor, 1967\\n\\nPacor, P.,\\nApplicability of the DuPont 900 DTA apparatus in quantitative differential thermal analysis,\\nAnal. Chim. Acta, 1967, 37, 200-208. [all data]\\n\\nTschamler, 1948\\n\\nTschamler, H.,\\nUber binare flussige Mischungen I. Mischungswarment, Volumseffekte und Zustandsdiagramme von chlorex mit benzol und n-alkylbenzolen,\\nMonatsh. Chem., 1948, 79, 162-177. [all data]\\n\\nHuffman, Parks, et al., 1930\\n\\nHuffman, H.M.; Parks, G.S.; Daniels, A.C.,\\nThermal data on organic compounds. VII. The heat capacities, entropies and free energies of twelve aromatic hydrocarbons,\\nJ. Am. Chem. Soc., 1930, 52, 1547-1558. [all data]\\n\\nMaass and Walbauer, 1925\\n\\nMaass, O.; Walbauer, L.J.,\\nThe specific heats and latent heats of fusion of ice and of several organic compounds,\\nJ. Am. Chem. Soc., 1925, 47, 1-9. [all data]\\n\\n\\nNotes\\nGo To: Top, Phase change data, References\\n\\nSymbols used in this document:\\n\\nPc\\nCritical pressure\\nTboil\\nBoiling point\\nTc\\nCritical temperature\\nTfus\\nFusion (melting) point\\nTtriple\\nTriple point temperature\\nVc\\nCritical volume\\nΔfusH\\nEnthalpy of fusion\\nΔfusS\\nEntropy of fusion\\nΔsubH\\nEnthalpy of sublimation\\nΔsubH°\\nEnthalpy of sublimation at standard conditions\\nΔvapH\\nEnthalpy of vaporization\\nΔvapH°\\nEnthalpy of vaporization at standard conditions\\nρc\\nCritical density\\n\\nData from NIST Standard Reference Database 69:\\nNIST Chemistry WebBook\\n\\nThe National Institute of Standards and Technology (NIST)\\nuses its best efforts to deliver a high quality copy of the\\nDatabase and to verify that the data contained therein have\\nbeen selected on the basis of sound scientific judgment.\\nHowever, NIST makes no warranties to that effect, and NIST\\nshall not be liable for any damage that may result from\\nerrors or omissions in the Database.\\n\\nCustomer support\\nfor NIST Standard Reference Data products.\\n\\n\\n\\n\\n© 2021 by the U.S. Secretary of Commerce\\non behalf of the United States of America. All rights reserved.\\n\\n\\nCopyright for NIST Standard Reference Data is governed by\\nthe \\nStandard Reference Data Act.\\n\\n\\n\\n\\nPrivacy Statement\\nPrivacy Policy\\nSecurity Notice\\n\\n\\nDisclaimer\\n\\n      (Note: This site is covered by copyright.)\\n\\n\\nAccessibility Statement\\nFOIA\\nContact Us\\n\\n\\n\\n\\n\\n'"
      ]
     },
     "execution_count": 58,
     "metadata": {},
     "output_type": "execute_result"
    }
   ],
   "source": [
    "page.text"
   ]
  },
  {
   "cell_type": "code",
   "execution_count": 62,
   "metadata": {},
   "outputs": [],
   "source": [
    "page = bs4.BeautifulSoup(page.text)"
   ]
  },
  {
   "cell_type": "code",
   "execution_count": null,
   "metadata": {},
   "outputs": [],
   "source": []
  },
  {
   "cell_type": "code",
   "execution_count": 16,
   "metadata": {},
   "outputs": [],
   "source": [
    "tables = page.findAll(\"table\") #tables is a list of table tagged data"
   ]
  },
  {
   "cell_type": "code",
   "execution_count": 17,
   "metadata": {},
   "outputs": [
    {
     "data": {
      "text/plain": [
       "<table aria-label=\"One dimensional data\" class=\"data\"><tr>\n",
       "<th scope=\"col\">Quantity</th>\n",
       "<th scope=\"col\">Value</th>\n",
       "<th scope=\"col\">Units</th>\n",
       "<th scope=\"col\">Method</th>\n",
       "<th scope=\"col\">Reference</th>\n",
       "<th scope=\"col\">Comment</th>\n",
       "</tr>\n",
       "<tr class=\"cal\"><td style=\"text-align: left;\">T<sub>boil</sub></td><td class=\"right-nowrap\">353.3 ± 0.1</td><td style=\"text-align: right;\">K</td><td style=\"text-align: center;\"><a href=\"/chemistry/site-cal.html#AVG\">AVG</a></td><td style=\"text-align: left;\">N/A</td><td style=\"text-align: left;\">Average of 147 out of 183 values; <a href=\"/cgi/cbook.cgi?ID=C71432&amp;Type=TBOIL\">Individual data points</a></td></tr>\n",
       "<tr>\n",
       "<th scope=\"col\">Quantity</th>\n",
       "<th scope=\"col\">Value</th>\n",
       "<th scope=\"col\">Units</th>\n",
       "<th scope=\"col\">Method</th>\n",
       "<th scope=\"col\">Reference</th>\n",
       "<th scope=\"col\">Comment</th>\n",
       "</tr>\n",
       "<tr class=\"cal\"><td style=\"text-align: left;\">T<sub>fus</sub></td><td class=\"right-nowrap\">278.64 ± 0.08</td><td style=\"text-align: right;\">K</td><td style=\"text-align: center;\"><a href=\"/chemistry/site-cal.html#AVG\">AVG</a></td><td style=\"text-align: left;\">N/A</td><td style=\"text-align: left;\">Average of 57 out of 69 values; <a href=\"/cgi/cbook.cgi?ID=C71432&amp;Type=TFREEZE\">Individual data points</a></td></tr>\n",
       "<tr>\n",
       "<th scope=\"col\">Quantity</th>\n",
       "<th scope=\"col\">Value</th>\n",
       "<th scope=\"col\">Units</th>\n",
       "<th scope=\"col\">Method</th>\n",
       "<th scope=\"col\">Reference</th>\n",
       "<th scope=\"col\">Comment</th>\n",
       "</tr>\n",
       "<tr class=\"cal\"><td style=\"text-align: left;\">T<sub>triple</sub></td><td class=\"right-nowrap\">278.5 ± 0.6</td><td style=\"text-align: right;\">K</td><td style=\"text-align: center;\"><a href=\"/chemistry/site-cal.html#AVG\">AVG</a></td><td style=\"text-align: left;\">N/A</td><td style=\"text-align: left;\">Average of 9 values; <a href=\"/cgi/cbook.cgi?ID=C71432&amp;Type=TTRIPLE\">Individual data points</a></td></tr>\n",
       "<tr>\n",
       "<th scope=\"col\">Quantity</th>\n",
       "<th scope=\"col\">Value</th>\n",
       "<th scope=\"col\">Units</th>\n",
       "<th scope=\"col\">Method</th>\n",
       "<th scope=\"col\">Reference</th>\n",
       "<th scope=\"col\">Comment</th>\n",
       "</tr>\n",
       "<tr class=\"cal\"><td style=\"text-align: left;\">T<sub>c</sub></td><td class=\"right-nowrap\">562.0 ± 0.8</td><td style=\"text-align: right;\">K</td><td style=\"text-align: center;\"><a href=\"/chemistry/site-cal.html#AVG\">AVG</a></td><td style=\"text-align: left;\">N/A</td><td style=\"text-align: left;\">Average of 36 out of 41 values; <a href=\"/cgi/cbook.cgi?ID=C71432&amp;Type=TC\">Individual data points</a></td></tr>\n",
       "<tr>\n",
       "<th scope=\"col\">Quantity</th>\n",
       "<th scope=\"col\">Value</th>\n",
       "<th scope=\"col\">Units</th>\n",
       "<th scope=\"col\">Method</th>\n",
       "<th scope=\"col\">Reference</th>\n",
       "<th scope=\"col\">Comment</th>\n",
       "</tr>\n",
       "<tr class=\"cal\"><td style=\"text-align: left;\">P<sub>c</sub></td><td class=\"right-nowrap\">48.9 ± 0.4</td><td style=\"text-align: right;\">bar</td><td style=\"text-align: center;\"><a href=\"/chemistry/site-cal.html#AVG\">AVG</a></td><td style=\"text-align: left;\">N/A</td><td style=\"text-align: left;\">Average of 24 out of 26 values; <a href=\"/cgi/cbook.cgi?ID=C71432&amp;Type=PC\">Individual data points</a></td></tr>\n",
       "<tr>\n",
       "<th scope=\"col\">Quantity</th>\n",
       "<th scope=\"col\">Value</th>\n",
       "<th scope=\"col\">Units</th>\n",
       "<th scope=\"col\">Method</th>\n",
       "<th scope=\"col\">Reference</th>\n",
       "<th scope=\"col\">Comment</th>\n",
       "</tr>\n",
       "<tr class=\"cal\"><td style=\"text-align: left;\">V<sub>c</sub></td><td class=\"right-nowrap\">0.25 ± 0.03</td><td style=\"text-align: right;\">l/mol</td><td style=\"text-align: center;\"><a href=\"/chemistry/site-cal.html#AVG\">AVG</a></td><td style=\"text-align: left;\">N/A</td><td style=\"text-align: left;\">Average of 6 values; <a href=\"/cgi/cbook.cgi?ID=C71432&amp;Type=VC\">Individual data points</a></td></tr>\n",
       "<tr>\n",
       "<th scope=\"col\">Quantity</th>\n",
       "<th scope=\"col\">Value</th>\n",
       "<th scope=\"col\">Units</th>\n",
       "<th scope=\"col\">Method</th>\n",
       "<th scope=\"col\">Reference</th>\n",
       "<th scope=\"col\">Comment</th>\n",
       "</tr>\n",
       "<tr class=\"cal\"><td style=\"text-align: left;\">ρ<sub>c</sub></td><td class=\"right-nowrap\">3.9 ± 0.2</td><td style=\"text-align: right;\">mol/l</td><td style=\"text-align: center;\"><a href=\"/chemistry/site-cal.html#AVG\">AVG</a></td><td style=\"text-align: left;\">N/A</td><td style=\"text-align: left;\">Average of 12 values; <a href=\"/cgi/cbook.cgi?ID=C71432&amp;Type=DC\">Individual data points</a></td></tr>\n",
       "<tr>\n",
       "<th scope=\"col\">Quantity</th>\n",
       "<th scope=\"col\">Value</th>\n",
       "<th scope=\"col\">Units</th>\n",
       "<th scope=\"col\">Method</th>\n",
       "<th scope=\"col\">Reference</th>\n",
       "<th scope=\"col\">Comment</th>\n",
       "</tr>\n",
       "<tr class=\"cal\"><td style=\"text-align: left;\">Δ<sub>vap</sub>H°</td><td class=\"right-nowrap\">33.9 ± 0.1</td><td style=\"text-align: right;\">kJ/mol</td><td style=\"text-align: center;\"><a href=\"/chemistry/site-cal.html#AVG\">AVG</a></td><td style=\"text-align: left;\">N/A</td><td style=\"text-align: left;\">Average of 10 out of 11 values; <a href=\"/cgi/cbook.cgi?ID=C71432&amp;Type=HVAP\">Individual data points</a></td></tr>\n",
       "<tr>\n",
       "<th scope=\"col\">Quantity</th>\n",
       "<th scope=\"col\">Value</th>\n",
       "<th scope=\"col\">Units</th>\n",
       "<th scope=\"col\">Method</th>\n",
       "<th scope=\"col\">Reference</th>\n",
       "<th scope=\"col\">Comment</th>\n",
       "</tr>\n",
       "<tr class=\"exp\"><td style=\"text-align: left;\">Δ<sub>sub</sub>H°</td><td class=\"right-nowrap\">44.4</td><td style=\"text-align: right;\">kJ/mol</td><td style=\"text-align: center;\"><a href=\"/chemistry/enthalpy.html#TE,ME\">TE,ME</a></td><td style=\"text-align: left;\"><a href=\"#ref-1\">Kruif, 1980</a></td><td style=\"text-align: left;\">Based on data from 183. - 197. K.; <em>AC</em></td></tr>\n",
       "</table>"
      ]
     },
     "execution_count": 17,
     "metadata": {},
     "output_type": "execute_result"
    }
   ],
   "source": [
    "tables[0]"
   ]
  },
  {
   "cell_type": "code",
   "execution_count": 19,
   "metadata": {},
   "outputs": [
    {
     "data": {
      "text/plain": [
       "('One dimensional data', ['data'])"
      ]
     },
     "execution_count": 19,
     "metadata": {},
     "output_type": "execute_result"
    }
   ],
   "source": [
    "tables[0][\"aria-label\"], tables[0][\"class\"]"
   ]
  },
  {
   "cell_type": "code",
   "execution_count": 20,
   "metadata": {},
   "outputs": [],
   "source": [
    "for table in tables:\n",
    "    arialabel = table[\"aria-label\"]\n",
    "    if arialabel == 'Antoine Equation Parameters':\n",
    "        break\n"
   ]
  },
  {
   "cell_type": "code",
   "execution_count": 21,
   "metadata": {},
   "outputs": [
    {
     "data": {
      "text/plain": [
       "'Antoine Equation Parameters'"
      ]
     },
     "execution_count": 21,
     "metadata": {},
     "output_type": "execute_result"
    }
   ],
   "source": [
    "table[\"aria-label\"]"
   ]
  },
  {
   "cell_type": "code",
   "execution_count": 22,
   "metadata": {},
   "outputs": [],
   "source": [
    "rows = table.findAll(\"tr\")"
   ]
  },
  {
   "cell_type": "code",
   "execution_count": 25,
   "metadata": {},
   "outputs": [
    {
     "data": {
      "text/plain": [
       "<tr class=\"exp\"><td class=\"right-nowrap\">333.4 - 373.5</td><td class=\"right-nowrap\">4.72583</td><td class=\"right-nowrap\">1660.652</td><td class=\"right-nowrap\">-1.461</td><td style=\"text-align: left;\"><a href=\"#ref-20\">Eon, Pommier, et al., 1971</a></td><td style=\"text-align: left;\">Coefficents calculated by NIST from author's data.</td></tr>"
      ]
     },
     "execution_count": 25,
     "metadata": {},
     "output_type": "execute_result"
    }
   ],
   "source": [
    "rows[1]"
   ]
  },
  {
   "cell_type": "code",
   "execution_count": 26,
   "metadata": {},
   "outputs": [],
   "source": [
    "#Let's get data from row[1]\n",
    "cells = rows[1].findAll(\"td\")"
   ]
  },
  {
   "cell_type": "code",
   "execution_count": 27,
   "metadata": {},
   "outputs": [
    {
     "data": {
      "text/plain": [
       "(<td class=\"right-nowrap\">333.4 - 373.5</td>,\n",
       " <td class=\"right-nowrap\">4.72583</td>,\n",
       " <td class=\"right-nowrap\">1660.652</td>,\n",
       " <td class=\"right-nowrap\">-1.461</td>)"
      ]
     },
     "execution_count": 27,
     "metadata": {},
     "output_type": "execute_result"
    }
   ],
   "source": [
    "cells[0], cells[1], cells[2], cells[3]"
   ]
  },
  {
   "cell_type": "code",
   "execution_count": 28,
   "metadata": {},
   "outputs": [
    {
     "data": {
      "text/plain": [
       "'333.4 - 373.5'"
      ]
     },
     "execution_count": 28,
     "metadata": {},
     "output_type": "execute_result"
    }
   ],
   "source": [
    "cells[0].text"
   ]
  },
  {
   "cell_type": "code",
   "execution_count": 29,
   "metadata": {},
   "outputs": [
    {
     "data": {
      "text/plain": [
       "'4.72583'"
      ]
     },
     "execution_count": 29,
     "metadata": {},
     "output_type": "execute_result"
    }
   ],
   "source": [
    "cells[1].text"
   ]
  },
  {
   "cell_type": "code",
   "execution_count": 30,
   "metadata": {},
   "outputs": [
    {
     "data": {
      "text/plain": [
       "['333.4 ', ' 373.5']"
      ]
     },
     "execution_count": 30,
     "metadata": {},
     "output_type": "execute_result"
    }
   ],
   "source": [
    "cells[0].text.split('-')"
   ]
  },
  {
   "cell_type": "code",
   "execution_count": 31,
   "metadata": {},
   "outputs": [],
   "source": [
    "Tmin = []\n",
    "Tmax = []\n",
    "A = []\n",
    "B = []\n",
    "C = []"
   ]
  },
  {
   "cell_type": "code",
   "execution_count": 32,
   "metadata": {},
   "outputs": [],
   "source": [
    "page = re.get(url)"
   ]
  },
  {
   "cell_type": "code",
   "execution_count": 35,
   "metadata": {},
   "outputs": [],
   "source": [
    "page = bs4.BeautifulSoup(page.text)"
   ]
  },
  {
   "cell_type": "code",
   "execution_count": 36,
   "metadata": {},
   "outputs": [],
   "source": [
    "tables = page.findAll(\"table\")"
   ]
  },
  {
   "cell_type": "code",
   "execution_count": 37,
   "metadata": {},
   "outputs": [],
   "source": [
    "for table in tables:\n",
    "    arialabel = table[\"aria-label\"]\n",
    "    if arialabel == 'Antoine Equation Parameters':\n",
    "        break\n"
   ]
  },
  {
   "cell_type": "code",
   "execution_count": 38,
   "metadata": {},
   "outputs": [
    {
     "data": {
      "text/plain": [
       "'Antoine Equation Parameters'"
      ]
     },
     "execution_count": 38,
     "metadata": {},
     "output_type": "execute_result"
    }
   ],
   "source": [
    "table[\"aria-label\"]"
   ]
  },
  {
   "cell_type": "code",
   "execution_count": 39,
   "metadata": {},
   "outputs": [],
   "source": [
    "rows = table.findAll(\"tr\")"
   ]
  },
  {
   "cell_type": "code",
   "execution_count": 40,
   "metadata": {},
   "outputs": [],
   "source": [
    "cells = rows[1].findAll(\"td\")"
   ]
  },
  {
   "cell_type": "code",
   "execution_count": 117,
   "metadata": {},
   "outputs": [],
   "source": [
    "Tmin,Tmax,A,B,C = [],[],[],[],[]\n",
    "for irow in range (len(rows)):\n",
    "    if irow > 0:\n",
    "        cells = rows[irow].findAll(\"td\")\n",
    "        tmin,tmax = cells[0].text.split('-')\n",
    "        a = cells[1].text\n",
    "        b = cells[2].text\n",
    "        c = cells[3].text\n",
    "        Tmin.append(float(tmin))\n",
    "        Tmax.append(float(tmax))\n",
    "        A.append(float(a))\n",
    "        B.append(float(b))\n",
    "        C.append(float(c))"
   ]
  },
  {
   "cell_type": "code",
   "execution_count": 119,
   "metadata": {
    "scrolled": true
   },
   "outputs": [
    {
     "data": {
      "text/plain": [
       "[333.4, 297.9, 421.56, 287.7]"
      ]
     },
     "execution_count": 119,
     "metadata": {},
     "output_type": "execute_result"
    }
   ],
   "source": [
    "Tmin"
   ]
  },
  {
   "cell_type": "code",
   "execution_count": 120,
   "metadata": {},
   "outputs": [
    {
     "data": {
      "text/plain": [
       "[373.5, 318.0, 554.8, 354.07]"
      ]
     },
     "execution_count": 120,
     "metadata": {},
     "output_type": "execute_result"
    }
   ],
   "source": [
    "Tmax"
   ]
  },
  {
   "cell_type": "code",
   "execution_count": 121,
   "metadata": {},
   "outputs": [
    {
     "data": {
      "text/plain": [
       "[4.72583, 0.14591, 4.60362, 4.01814]"
      ]
     },
     "execution_count": 121,
     "metadata": {},
     "output_type": "execute_result"
    }
   ],
   "source": [
    "A"
   ]
  },
  {
   "cell_type": "code",
   "execution_count": 122,
   "metadata": {},
   "outputs": [
    {
     "data": {
      "text/plain": [
       "[1660.652, 39.165, 1701.073, 1203.835]"
      ]
     },
     "execution_count": 122,
     "metadata": {},
     "output_type": "execute_result"
    }
   ],
   "source": [
    "B"
   ]
  },
  {
   "cell_type": "code",
   "execution_count": 123,
   "metadata": {},
   "outputs": [
    {
     "data": {
      "text/plain": [
       "[-1.461, -261.236, 20.806, -53.226]"
      ]
     },
     "execution_count": 123,
     "metadata": {},
     "output_type": "execute_result"
    }
   ],
   "source": [
    "C"
   ]
  },
  {
   "cell_type": "code",
   "execution_count": 125,
   "metadata": {},
   "outputs": [],
   "source": [
    "dict={'Tmin':Tmin,'Tmax':Tmax,'A':A,'B':B,'C':C}"
   ]
  },
  {
   "cell_type": "code",
   "execution_count": 129,
   "metadata": {},
   "outputs": [],
   "source": [
    "df = pd.DataFrame(dict)"
   ]
  },
  {
   "cell_type": "code",
   "execution_count": 142,
   "metadata": {},
   "outputs": [],
   "source": [
    "df.to_excel('Benzene.xlsx')"
   ]
  },
  {
   "cell_type": "code",
   "execution_count": 65,
   "metadata": {},
   "outputs": [],
   "source": [
    "page = re.get(url)\n",
    "page = bs4.BeautifulSoup(page.text)"
   ]
  },
  {
   "cell_type": "code",
   "execution_count": 71,
   "metadata": {},
   "outputs": [
    {
     "data": {
      "text/plain": [
       "'Benzene'"
      ]
     },
     "execution_count": 71,
     "metadata": {},
     "output_type": "execute_result"
    }
   ],
   "source": [
    "h1s = page.findAll(\"h1\")\n",
    "for h1 in h1s:\n",
    "    try:\n",
    "        if h1[\"id\"] == \"Top\":\n",
    "            break\n",
    "    except KeyError:\n",
    "        continue\n",
    "h1.text"
   ]
  },
  {
   "cell_type": "code",
   "execution_count": 75,
   "metadata": {},
   "outputs": [
    {
     "data": {
      "text/plain": [
       "'Benzene'"
      ]
     },
     "execution_count": 75,
     "metadata": {},
     "output_type": "execute_result"
    }
   ],
   "source": [
    "page.find(\"title\").text"
   ]
  },
  {
   "cell_type": "code",
   "execution_count": null,
   "metadata": {},
   "outputs": [],
   "source": []
  },
  {
   "cell_type": "code",
   "execution_count": null,
   "metadata": {},
   "outputs": [],
   "source": []
  },
  {
   "cell_type": "code",
   "execution_count": null,
   "metadata": {},
   "outputs": [],
   "source": []
  },
  {
   "cell_type": "code",
   "execution_count": 76,
   "metadata": {},
   "outputs": [],
   "source": [
    "def get_antoine_from_nist(CAS):\n",
    "    url = f\"https://webbook.nist.gov/cgi/cbook.cgi?ID=C{CAS}&Mask=4#Thermo-Phase\"\n",
    "    page = re.get(url)\n",
    "    page = bs4.BeautifulSoup(page.text)\n",
    "    name = page.find(\"title\").text\n",
    "    tables = page.findAll(\"table\")\n",
    "    for table in tables:\n",
    "        aria_label = table[\"aria-label\"]\n",
    "        if aria_label == \"Antoine Equation Parameters\":\n",
    "            break\n",
    "    rows = table.findAll(\"tr\")\n",
    "    Tmin, Tmax, A, B, C = [], [], [], [], []\n",
    "    for irow in range(len(rows)):\n",
    "        if irow > 0:\n",
    "            cells = rows[irow].findAll(\"td\")\n",
    "            tmin, tmax = cells[0].text.split(\"-\")\n",
    "            a = cells[1].text\n",
    "            b = cells[2].text\n",
    "            c = cells[3].text\n",
    "            Tmin.append(float(tmin))\n",
    "            Tmax.append(float(tmax))\n",
    "            A.append(float(a))\n",
    "            B.append(float(b))\n",
    "            C.append(float(c))\n",
    "    df_antoine = pd.DataFrame({\n",
    "        \"Tmin\":Tmin,\n",
    "        \"Tmax\":Tmax,\n",
    "        \"A\":A,\n",
    "        \"B\":B,\n",
    "        \"C\":C\n",
    "    })            \n",
    "    \n",
    "    return name, df_antoine"
   ]
  },
  {
   "cell_type": "code",
   "execution_count": 80,
   "metadata": {},
   "outputs": [
    {
     "data": {
      "text/plain": [
       "'Toluene'"
      ]
     },
     "execution_count": 80,
     "metadata": {},
     "output_type": "execute_result"
    }
   ],
   "source": [
    "name, df = get_antoine_from_nist(108883)\n",
    "name"
   ]
  },
  {
   "cell_type": "code",
   "execution_count": 89,
   "metadata": {},
   "outputs": [
    {
     "data": {
      "text/html": [
       "<div>\n",
       "<style scoped>\n",
       "    .dataframe tbody tr th:only-of-type {\n",
       "        vertical-align: middle;\n",
       "    }\n",
       "\n",
       "    .dataframe tbody tr th {\n",
       "        vertical-align: top;\n",
       "    }\n",
       "\n",
       "    .dataframe thead th {\n",
       "        text-align: right;\n",
       "    }\n",
       "</style>\n",
       "<table border=\"1\" class=\"dataframe\">\n",
       "  <thead>\n",
       "    <tr style=\"text-align: right;\">\n",
       "      <th></th>\n",
       "      <th>Tmin</th>\n",
       "      <th>Tmax</th>\n",
       "      <th>A</th>\n",
       "      <th>B</th>\n",
       "      <th>C</th>\n",
       "    </tr>\n",
       "  </thead>\n",
       "  <tbody>\n",
       "    <tr>\n",
       "      <th>0</th>\n",
       "      <td>273.13</td>\n",
       "      <td>297.89</td>\n",
       "      <td>4.23679</td>\n",
       "      <td>1426.448</td>\n",
       "      <td>-45.957</td>\n",
       "    </tr>\n",
       "    <tr>\n",
       "      <th>1</th>\n",
       "      <td>303.00</td>\n",
       "      <td>343.00</td>\n",
       "      <td>4.08245</td>\n",
       "      <td>1346.382</td>\n",
       "      <td>-53.508</td>\n",
       "    </tr>\n",
       "    <tr>\n",
       "      <th>2</th>\n",
       "      <td>420.00</td>\n",
       "      <td>580.00</td>\n",
       "      <td>4.54436</td>\n",
       "      <td>1738.123</td>\n",
       "      <td>0.394</td>\n",
       "    </tr>\n",
       "    <tr>\n",
       "      <th>3</th>\n",
       "      <td>308.52</td>\n",
       "      <td>384.66</td>\n",
       "      <td>4.07827</td>\n",
       "      <td>1343.943</td>\n",
       "      <td>-53.773</td>\n",
       "    </tr>\n",
       "    <tr>\n",
       "      <th>4</th>\n",
       "      <td>273.00</td>\n",
       "      <td>323.00</td>\n",
       "      <td>4.14157</td>\n",
       "      <td>1377.578</td>\n",
       "      <td>-50.507</td>\n",
       "    </tr>\n",
       "  </tbody>\n",
       "</table>\n",
       "</div>"
      ],
      "text/plain": [
       "     Tmin    Tmax        A         B       C\n",
       "0  273.13  297.89  4.23679  1426.448 -45.957\n",
       "1  303.00  343.00  4.08245  1346.382 -53.508\n",
       "2  420.00  580.00  4.54436  1738.123   0.394\n",
       "3  308.52  384.66  4.07827  1343.943 -53.773\n",
       "4  273.00  323.00  4.14157  1377.578 -50.507"
      ]
     },
     "execution_count": 89,
     "metadata": {},
     "output_type": "execute_result"
    }
   ],
   "source": [
    "df"
   ]
  },
  {
   "cell_type": "code",
   "execution_count": 90,
   "metadata": {},
   "outputs": [],
   "source": [
    "import scipy.optimize as scopt"
   ]
  },
  {
   "cell_type": "code",
   "execution_count": 100,
   "metadata": {},
   "outputs": [],
   "source": [
    "def curve(T, *params):\n",
    "    [C1, C2, C3, C4, C5] = params\n",
    "    lnPsat = C1 + C2/T + C3*np.log(T) + C4*T**C5\n",
    "    return np.exp(lnPsat)\n",
    "\n",
    "def residuals(params, Tdata, Pdata):\n",
    "    Pcalc = []\n",
    "    for T in Tdata:\n",
    "        Pcalc.append(curve(T, *params))\n",
    "    Pcalc = np.array(Pcalc)\n",
    "    Pdata = np.array(Pdata)\n",
    "    errors = np.log(Pcalc) - np.log(Pdata)\n",
    "    return errors\n",
    "\n",
    "def fit_extended_antoine(df, boolplot = False):\n",
    "    Pdata = []\n",
    "    Tdata = []\n",
    "    for i in range(len(df)):\n",
    "        row = df.iloc[i]\n",
    "        Tmin = row[\"Tmin\"]\n",
    "        Tmax = row[\"Tmax\"]\n",
    "        A = row[\"A\"]\n",
    "        B = row[\"B\"]\n",
    "        C = row[\"C\"]\n",
    "        for T in np.linspace(Tmin, Tmax, 10):\n",
    "            ln10Psat = A - B/(T+C)\n",
    "            Psat = 10**ln10Psat\n",
    "            Psat = Psat*1e5\n",
    "            Tdata.append(T)\n",
    "            Pdata.append(Psat)\n",
    "    plsq = scopt.least_squares(residuals, [0,0,0,0,0], args=(Tdata, Pdata,))\n",
    "    parameters = plsq.x\n",
    "    Pdata = np.array(Pdata)\n",
    "    if boolplot:\n",
    "        plt.plot(Tdata, np.log(Pdata), 'ro')\n",
    "        Tfit = np.linspace(min(Tdata), max(Tdata), 1000)\n",
    "        Pfit = curve(Tfit, *parameters)\n",
    "        plt.plot(Tfit, np.log(Pfit), 'b')\n",
    "    return parameters\n"
   ]
  },
  {
   "cell_type": "code",
   "execution_count": 101,
   "metadata": {},
   "outputs": [
    {
     "data": {
      "text/plain": [
       "array([ 8.73182755e+01, -6.31735550e+02, -8.30895590e+00, -1.79793764e+03,\n",
       "       -7.20626381e-01])"
      ]
     },
     "execution_count": 101,
     "metadata": {},
     "output_type": "execute_result"
    },
    {
     "data": {
      "image/png": "[encoded data removed]",
      "text/plain": [
       "<Figure size 432x288 with 1 Axes>"
      ]
     },
     "metadata": {
      "needs_background": "light"
     },
     "output_type": "display_data"
    }
   ],
   "source": [
    "fit_extended_antoine(df, boolplot=True)"
   ]
  },
  {
   "cell_type": "code",
   "execution_count": 102,
   "metadata": {},
   "outputs": [],
   "source": [
    "def get_and_fit_extended_antoine(CAS):\n",
    "    name, df = get_antoine_from_nist(CAS)\n",
    "    parameters = fit_extended_antoine(df)\n",
    "    return name, parameters"
   ]
  },
  {
   "cell_type": "code",
   "execution_count": 103,
   "metadata": {},
   "outputs": [
    {
     "data": {
      "text/plain": [
       "('Toluene',\n",
       " array([ 8.73182755e+01, -6.31735550e+02, -8.30895590e+00, -1.79793764e+03,\n",
       "        -7.20626381e-01]))"
      ]
     },
     "execution_count": 103,
     "metadata": {},
     "output_type": "execute_result"
    }
   ],
   "source": [
    "get_and_fit_extended_antoine(108883)"
   ]
  },
  {
   "cell_type": "code",
   "execution_count": null,
   "metadata": {},
   "outputs": [],
   "source": []
  }
 ],
 "metadata": {
  "kernelspec": {
   "display_name": "Python 3",
   "language": "python",
   "name": "python3"
  },
  "language_info": {
   "codemirror_mode": {
    "name": "ipython",
    "version": 3
   },
   "file_extension": ".py",
   "mimetype": "text/x-python",
   "name": "python",
   "nbconvert_exporter": "python",
   "pygments_lexer": "ipython3",
   "version": "3.7.6"
  }
 },
 "nbformat": 4,
 "nbformat_minor": 4
}
