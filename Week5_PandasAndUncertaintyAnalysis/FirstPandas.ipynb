{
 "cells": [
  {
   "cell_type": "markdown",
   "metadata": {},
   "source": [
    "# First Look at Pandas"
   ]
  },
  {
   "cell_type": "markdown",
   "metadata": {},
   "source": [
    "### DataFrame"
   ]
  },
  {
   "cell_type": "code",
   "execution_count": 1,
   "metadata": {},
   "outputs": [],
   "source": [
    "import numpy as np\n",
    "import pandas as pd"
   ]
  },
  {
   "cell_type": "code",
   "execution_count": 2,
   "metadata": {},
   "outputs": [],
   "source": [
    "df_middleearth = pd.DataFrame(\n",
    "        {\n",
    "            \"City\":[\"Gondor\",\"Mordor\",\"Lothlorien\",\"Umbar\"],\n",
    "            \"Population\":[10000, 100000, 1000, 2000],\n",
    "            \"Wealth\":[100000, 200000, 200000, 10000],\n",
    "            \"isGood\":[True, False, True, False]\n",
    "        }\n",
    ")"
   ]
  },
  {
   "cell_type": "code",
   "execution_count": 3,
   "metadata": {},
   "outputs": [
    {
     "data": {
      "text/html": [
       "<div>\n",
       "<style scoped>\n",
       "    .dataframe tbody tr th:only-of-type {\n",
       "        vertical-align: middle;\n",
       "    }\n",
       "\n",
       "    .dataframe tbody tr th {\n",
       "        vertical-align: top;\n",
       "    }\n",
       "\n",
       "    .dataframe thead th {\n",
       "        text-align: right;\n",
       "    }\n",
       "</style>\n",
       "<table border=\"1\" class=\"dataframe\">\n",
       "  <thead>\n",
       "    <tr style=\"text-align: right;\">\n",
       "      <th></th>\n",
       "      <th>City</th>\n",
       "      <th>Population</th>\n",
       "      <th>Wealth</th>\n",
       "      <th>isGood</th>\n",
       "    </tr>\n",
       "  </thead>\n",
       "  <tbody>\n",
       "    <tr>\n",
       "      <th>0</th>\n",
       "      <td>Gondor</td>\n",
       "      <td>10000</td>\n",
       "      <td>100000</td>\n",
       "      <td>True</td>\n",
       "    </tr>\n",
       "    <tr>\n",
       "      <th>1</th>\n",
       "      <td>Mordor</td>\n",
       "      <td>100000</td>\n",
       "      <td>200000</td>\n",
       "      <td>False</td>\n",
       "    </tr>\n",
       "    <tr>\n",
       "      <th>2</th>\n",
       "      <td>Lothlorien</td>\n",
       "      <td>1000</td>\n",
       "      <td>200000</td>\n",
       "      <td>True</td>\n",
       "    </tr>\n",
       "    <tr>\n",
       "      <th>3</th>\n",
       "      <td>Umbar</td>\n",
       "      <td>2000</td>\n",
       "      <td>10000</td>\n",
       "      <td>False</td>\n",
       "    </tr>\n",
       "  </tbody>\n",
       "</table>\n",
       "</div>"
      ],
      "text/plain": [
       "         City  Population  Wealth  isGood\n",
       "0      Gondor       10000  100000    True\n",
       "1      Mordor      100000  200000   False\n",
       "2  Lothlorien        1000  200000    True\n",
       "3       Umbar        2000   10000   False"
      ]
     },
     "execution_count": 3,
     "metadata": {},
     "output_type": "execute_result"
    }
   ],
   "source": [
    "df_middleearth"
   ]
  },
  {
   "cell_type": "code",
   "execution_count": 4,
   "metadata": {},
   "outputs": [
    {
     "data": {
      "text/html": [
       "<div>\n",
       "<style scoped>\n",
       "    .dataframe tbody tr th:only-of-type {\n",
       "        vertical-align: middle;\n",
       "    }\n",
       "\n",
       "    .dataframe tbody tr th {\n",
       "        vertical-align: top;\n",
       "    }\n",
       "\n",
       "    .dataframe thead th {\n",
       "        text-align: right;\n",
       "    }\n",
       "</style>\n",
       "<table border=\"1\" class=\"dataframe\">\n",
       "  <thead>\n",
       "    <tr style=\"text-align: right;\">\n",
       "      <th></th>\n",
       "      <th>City</th>\n",
       "      <th>Population</th>\n",
       "      <th>Wealth</th>\n",
       "      <th>isGood</th>\n",
       "      <th>GDP</th>\n",
       "    </tr>\n",
       "  </thead>\n",
       "  <tbody>\n",
       "    <tr>\n",
       "      <th>0</th>\n",
       "      <td>Gondor</td>\n",
       "      <td>10000</td>\n",
       "      <td>100000</td>\n",
       "      <td>True</td>\n",
       "      <td>10.0</td>\n",
       "    </tr>\n",
       "    <tr>\n",
       "      <th>1</th>\n",
       "      <td>Mordor</td>\n",
       "      <td>100000</td>\n",
       "      <td>200000</td>\n",
       "      <td>False</td>\n",
       "      <td>2.0</td>\n",
       "    </tr>\n",
       "    <tr>\n",
       "      <th>2</th>\n",
       "      <td>Lothlorien</td>\n",
       "      <td>1000</td>\n",
       "      <td>200000</td>\n",
       "      <td>True</td>\n",
       "      <td>200.0</td>\n",
       "    </tr>\n",
       "    <tr>\n",
       "      <th>3</th>\n",
       "      <td>Umbar</td>\n",
       "      <td>2000</td>\n",
       "      <td>10000</td>\n",
       "      <td>False</td>\n",
       "      <td>5.0</td>\n",
       "    </tr>\n",
       "  </tbody>\n",
       "</table>\n",
       "</div>"
      ],
      "text/plain": [
       "         City  Population  Wealth  isGood    GDP\n",
       "0      Gondor       10000  100000    True   10.0\n",
       "1      Mordor      100000  200000   False    2.0\n",
       "2  Lothlorien        1000  200000    True  200.0\n",
       "3       Umbar        2000   10000   False    5.0"
      ]
     },
     "execution_count": 4,
     "metadata": {},
     "output_type": "execute_result"
    }
   ],
   "source": [
    "df_middleearth[\"GDP\"] = df_middleearth[\"Wealth\"]/df_middleearth[\"Population\"]\n",
    "df_middleearth"
   ]
  },
  {
   "cell_type": "code",
   "execution_count": 5,
   "metadata": {},
   "outputs": [
    {
     "data": {
      "text/html": [
       "<div>\n",
       "<style scoped>\n",
       "    .dataframe tbody tr th:only-of-type {\n",
       "        vertical-align: middle;\n",
       "    }\n",
       "\n",
       "    .dataframe tbody tr th {\n",
       "        vertical-align: top;\n",
       "    }\n",
       "\n",
       "    .dataframe thead th {\n",
       "        text-align: right;\n",
       "    }\n",
       "</style>\n",
       "<table border=\"1\" class=\"dataframe\">\n",
       "  <thead>\n",
       "    <tr style=\"text-align: right;\">\n",
       "      <th></th>\n",
       "      <th>City</th>\n",
       "      <th>Population</th>\n",
       "      <th>Wealth</th>\n",
       "      <th>GDP</th>\n",
       "      <th>isGood</th>\n",
       "    </tr>\n",
       "  </thead>\n",
       "  <tbody>\n",
       "    <tr>\n",
       "      <th>0</th>\n",
       "      <td>Gondor</td>\n",
       "      <td>10000</td>\n",
       "      <td>100000</td>\n",
       "      <td>10.0</td>\n",
       "      <td>True</td>\n",
       "    </tr>\n",
       "    <tr>\n",
       "      <th>1</th>\n",
       "      <td>Mordor</td>\n",
       "      <td>100000</td>\n",
       "      <td>200000</td>\n",
       "      <td>2.0</td>\n",
       "      <td>False</td>\n",
       "    </tr>\n",
       "    <tr>\n",
       "      <th>2</th>\n",
       "      <td>Lothlorien</td>\n",
       "      <td>1000</td>\n",
       "      <td>200000</td>\n",
       "      <td>200.0</td>\n",
       "      <td>True</td>\n",
       "    </tr>\n",
       "    <tr>\n",
       "      <th>3</th>\n",
       "      <td>Umbar</td>\n",
       "      <td>2000</td>\n",
       "      <td>10000</td>\n",
       "      <td>5.0</td>\n",
       "      <td>False</td>\n",
       "    </tr>\n",
       "  </tbody>\n",
       "</table>\n",
       "</div>"
      ],
      "text/plain": [
       "         City  Population  Wealth    GDP  isGood\n",
       "0      Gondor       10000  100000   10.0    True\n",
       "1      Mordor      100000  200000    2.0   False\n",
       "2  Lothlorien        1000  200000  200.0    True\n",
       "3       Umbar        2000   10000    5.0   False"
      ]
     },
     "execution_count": 5,
     "metadata": {},
     "output_type": "execute_result"
    }
   ],
   "source": [
    "columns = [\"City\", \"Population\", \"Wealth\", \"GDP\",\"isGood\"]\n",
    "df_middleearth = df_middleearth[columns].copy()\n",
    "df_middleearth"
   ]
  },
  {
   "cell_type": "code",
   "execution_count": 6,
   "metadata": {},
   "outputs": [
    {
     "data": {
      "text/html": [
       "<div>\n",
       "<style scoped>\n",
       "    .dataframe tbody tr th:only-of-type {\n",
       "        vertical-align: middle;\n",
       "    }\n",
       "\n",
       "    .dataframe tbody tr th {\n",
       "        vertical-align: top;\n",
       "    }\n",
       "\n",
       "    .dataframe thead th {\n",
       "        text-align: right;\n",
       "    }\n",
       "</style>\n",
       "<table border=\"1\" class=\"dataframe\">\n",
       "  <thead>\n",
       "    <tr style=\"text-align: right;\">\n",
       "      <th></th>\n",
       "      <th>City</th>\n",
       "      <th>Population</th>\n",
       "      <th>Wealth</th>\n",
       "      <th>GDP</th>\n",
       "      <th>isGood</th>\n",
       "    </tr>\n",
       "  </thead>\n",
       "  <tbody>\n",
       "    <tr>\n",
       "      <th>1</th>\n",
       "      <td>Gondor</td>\n",
       "      <td>10000</td>\n",
       "      <td>100000</td>\n",
       "      <td>10.0</td>\n",
       "      <td>True</td>\n",
       "    </tr>\n",
       "    <tr>\n",
       "      <th>2</th>\n",
       "      <td>Mordor</td>\n",
       "      <td>100000</td>\n",
       "      <td>200000</td>\n",
       "      <td>2.0</td>\n",
       "      <td>False</td>\n",
       "    </tr>\n",
       "    <tr>\n",
       "      <th>3</th>\n",
       "      <td>Lothlorien</td>\n",
       "      <td>1000</td>\n",
       "      <td>200000</td>\n",
       "      <td>200.0</td>\n",
       "      <td>True</td>\n",
       "    </tr>\n",
       "    <tr>\n",
       "      <th>4</th>\n",
       "      <td>Umbar</td>\n",
       "      <td>2000</td>\n",
       "      <td>10000</td>\n",
       "      <td>5.0</td>\n",
       "      <td>False</td>\n",
       "    </tr>\n",
       "  </tbody>\n",
       "</table>\n",
       "</div>"
      ],
      "text/plain": [
       "         City  Population  Wealth    GDP  isGood\n",
       "1      Gondor       10000  100000   10.0    True\n",
       "2      Mordor      100000  200000    2.0   False\n",
       "3  Lothlorien        1000  200000  200.0    True\n",
       "4       Umbar        2000   10000    5.0   False"
      ]
     },
     "execution_count": 6,
     "metadata": {},
     "output_type": "execute_result"
    }
   ],
   "source": [
    "df_middleearth.index = [1,2,3,4]\n",
    "df_middleearth"
   ]
  },
  {
   "cell_type": "code",
   "execution_count": 7,
   "metadata": {},
   "outputs": [
    {
     "data": {
      "text/plain": [
       "3    200000\n",
       "Name: Wealth, dtype: int64"
      ]
     },
     "execution_count": 7,
     "metadata": {},
     "output_type": "execute_result"
    }
   ],
   "source": [
    "df_middleearth[df_middleearth[\"City\"] == \"Lothlorien\"][\"Wealth\"]"
   ]
  },
  {
   "cell_type": "code",
   "execution_count": 8,
   "metadata": {},
   "outputs": [
    {
     "data": {
      "text/plain": [
       "200000"
      ]
     },
     "execution_count": 8,
     "metadata": {},
     "output_type": "execute_result"
    }
   ],
   "source": [
    "df_middleearth.loc[3][\"Wealth\"]"
   ]
  },
  {
   "cell_type": "code",
   "execution_count": 9,
   "metadata": {},
   "outputs": [
    {
     "data": {
      "text/plain": [
       "200000"
      ]
     },
     "execution_count": 9,
     "metadata": {},
     "output_type": "execute_result"
    }
   ],
   "source": [
    "df_middleearth.iloc[2][\"Wealth\"]"
   ]
  },
  {
   "cell_type": "code",
   "execution_count": 10,
   "metadata": {},
   "outputs": [
    {
     "data": {
      "text/plain": [
       "City          Lothlorien\n",
       "Population          1000\n",
       "Wealth            200000\n",
       "GDP                  200\n",
       "isGood              True\n",
       "Name: 3, dtype: object"
      ]
     },
     "execution_count": 10,
     "metadata": {},
     "output_type": "execute_result"
    }
   ],
   "source": [
    "df_middleearth.loc[3]"
   ]
  },
  {
   "cell_type": "code",
   "execution_count": 11,
   "metadata": {},
   "outputs": [
    {
     "data": {
      "text/html": [
       "<div>\n",
       "<style scoped>\n",
       "    .dataframe tbody tr th:only-of-type {\n",
       "        vertical-align: middle;\n",
       "    }\n",
       "\n",
       "    .dataframe tbody tr th {\n",
       "        vertical-align: top;\n",
       "    }\n",
       "\n",
       "    .dataframe thead th {\n",
       "        text-align: right;\n",
       "    }\n",
       "</style>\n",
       "<table border=\"1\" class=\"dataframe\">\n",
       "  <thead>\n",
       "    <tr style=\"text-align: right;\">\n",
       "      <th></th>\n",
       "      <th>City</th>\n",
       "      <th>Population</th>\n",
       "      <th>Wealth</th>\n",
       "      <th>GDP</th>\n",
       "      <th>isGood</th>\n",
       "    </tr>\n",
       "  </thead>\n",
       "  <tbody>\n",
       "    <tr>\n",
       "      <th>Gondor</th>\n",
       "      <td>Gondor</td>\n",
       "      <td>10000</td>\n",
       "      <td>100000</td>\n",
       "      <td>10.0</td>\n",
       "      <td>True</td>\n",
       "    </tr>\n",
       "    <tr>\n",
       "      <th>Mordor</th>\n",
       "      <td>Mordor</td>\n",
       "      <td>100000</td>\n",
       "      <td>200000</td>\n",
       "      <td>2.0</td>\n",
       "      <td>False</td>\n",
       "    </tr>\n",
       "    <tr>\n",
       "      <th>Lothlorien</th>\n",
       "      <td>Lothlorien</td>\n",
       "      <td>1000</td>\n",
       "      <td>200000</td>\n",
       "      <td>200.0</td>\n",
       "      <td>True</td>\n",
       "    </tr>\n",
       "    <tr>\n",
       "      <th>Umbar</th>\n",
       "      <td>Umbar</td>\n",
       "      <td>2000</td>\n",
       "      <td>10000</td>\n",
       "      <td>5.0</td>\n",
       "      <td>False</td>\n",
       "    </tr>\n",
       "  </tbody>\n",
       "</table>\n",
       "</div>"
      ],
      "text/plain": [
       "                  City  Population  Wealth    GDP  isGood\n",
       "Gondor          Gondor       10000  100000   10.0    True\n",
       "Mordor          Mordor      100000  200000    2.0   False\n",
       "Lothlorien  Lothlorien        1000  200000  200.0    True\n",
       "Umbar            Umbar        2000   10000    5.0   False"
      ]
     },
     "execution_count": 11,
     "metadata": {},
     "output_type": "execute_result"
    }
   ],
   "source": [
    "df_middleearth.index = list(df_middleearth[\"City\"])\n",
    "df_middleearth"
   ]
  },
  {
   "cell_type": "code",
   "execution_count": 12,
   "metadata": {},
   "outputs": [
    {
     "data": {
      "text/plain": [
       "City          Gondor\n",
       "Population     10000\n",
       "Wealth        100000\n",
       "GDP               10\n",
       "isGood          True\n",
       "Name: Gondor, dtype: object"
      ]
     },
     "execution_count": 12,
     "metadata": {},
     "output_type": "execute_result"
    }
   ],
   "source": [
    "df_middleearth.loc[\"Gondor\"]"
   ]
  },
  {
   "cell_type": "code",
   "execution_count": 13,
   "metadata": {},
   "outputs": [
    {
     "data": {
      "text/plain": [
       "1000"
      ]
     },
     "execution_count": 13,
     "metadata": {},
     "output_type": "execute_result"
    }
   ],
   "source": [
    "df_middleearth.loc[\"Lothlorien\"][\"Population\"]"
   ]
  },
  {
   "cell_type": "code",
   "execution_count": 30,
   "metadata": {},
   "outputs": [],
   "source": [
    "def happinessindex(row):\n",
    "    pop = row[\"Population\"]\n",
    "    gdp = row[\"GDP\"]\n",
    "    isgood = row[\"isGood\"]\n",
    "    factor = 2 if isgood else 0.5\n",
    "    return pop*gdp*factor"
   ]
  },
  {
   "cell_type": "code",
   "execution_count": 31,
   "metadata": {},
   "outputs": [
    {
     "data": {
      "text/html": [
       "<div>\n",
       "<style scoped>\n",
       "    .dataframe tbody tr th:only-of-type {\n",
       "        vertical-align: middle;\n",
       "    }\n",
       "\n",
       "    .dataframe tbody tr th {\n",
       "        vertical-align: top;\n",
       "    }\n",
       "\n",
       "    .dataframe thead th {\n",
       "        text-align: right;\n",
       "    }\n",
       "</style>\n",
       "<table border=\"1\" class=\"dataframe\">\n",
       "  <thead>\n",
       "    <tr style=\"text-align: right;\">\n",
       "      <th></th>\n",
       "      <th>City</th>\n",
       "      <th>Population</th>\n",
       "      <th>Wealth</th>\n",
       "      <th>GDP</th>\n",
       "      <th>isGood</th>\n",
       "      <th>HappyIndex</th>\n",
       "    </tr>\n",
       "  </thead>\n",
       "  <tbody>\n",
       "    <tr>\n",
       "      <th>Gondor</th>\n",
       "      <td>Gondor</td>\n",
       "      <td>10000</td>\n",
       "      <td>100000</td>\n",
       "      <td>10.0</td>\n",
       "      <td>True</td>\n",
       "      <td>200000.0</td>\n",
       "    </tr>\n",
       "    <tr>\n",
       "      <th>Mordor</th>\n",
       "      <td>Mordor</td>\n",
       "      <td>100000</td>\n",
       "      <td>200000</td>\n",
       "      <td>2.0</td>\n",
       "      <td>False</td>\n",
       "      <td>100000.0</td>\n",
       "    </tr>\n",
       "    <tr>\n",
       "      <th>Lothlorien</th>\n",
       "      <td>Lothlorien</td>\n",
       "      <td>1000</td>\n",
       "      <td>200000</td>\n",
       "      <td>200.0</td>\n",
       "      <td>True</td>\n",
       "      <td>400000.0</td>\n",
       "    </tr>\n",
       "    <tr>\n",
       "      <th>Umbar</th>\n",
       "      <td>Umbar</td>\n",
       "      <td>2000</td>\n",
       "      <td>10000</td>\n",
       "      <td>5.0</td>\n",
       "      <td>False</td>\n",
       "      <td>5000.0</td>\n",
       "    </tr>\n",
       "  </tbody>\n",
       "</table>\n",
       "</div>"
      ],
      "text/plain": [
       "                  City  Population  Wealth    GDP  isGood  HappyIndex\n",
       "Gondor          Gondor       10000  100000   10.0    True    200000.0\n",
       "Mordor          Mordor      100000  200000    2.0   False    100000.0\n",
       "Lothlorien  Lothlorien        1000  200000  200.0    True    400000.0\n",
       "Umbar            Umbar        2000   10000    5.0   False      5000.0"
      ]
     },
     "execution_count": 31,
     "metadata": {},
     "output_type": "execute_result"
    }
   ],
   "source": [
    "df_middleearth[\"HappyIndex\"] = df_middleearth.apply(\n",
    "                            happinessindex,\n",
    "                            axis = 1\n",
    ")\n",
    "df_middleearth"
   ]
  },
  {
   "cell_type": "code",
   "execution_count": null,
   "metadata": {},
   "outputs": [],
   "source": []
  }
 ],
 "metadata": {
  "kernelspec": {
   "display_name": "Python 3",
   "language": "python",
   "name": "python3"
  },
  "language_info": {
   "codemirror_mode": {
    "name": "ipython",
    "version": 3
   },
   "file_extension": ".py",
   "mimetype": "text/x-python",
   "name": "python",
   "nbconvert_exporter": "python",
   "pygments_lexer": "ipython3",
   "version": "3.7.6"
  }
 },
 "nbformat": 4,
 "nbformat_minor": 4
}
