{
 "cells": [
  {
   "cell_type": "code",
   "execution_count": 2,
   "metadata": {},
   "outputs": [],
   "source": [
    "import numpy as np\n",
    "import scipy.optimize as scopt\n",
    "import matplotlib.pyplot as plt\n",
    "import requests as re\n",
    "import bs4\n",
    "import xlwings"
   ]
  },
  {
   "cell_type": "code",
   "execution_count": 3,
   "metadata": {},
   "outputs": [],
   "source": [
    "wb = xlwings.Book(\"ConsolidatedData.xlsx\")\n",
    "sheet = wb.sheets(\"Psat\")"
   ]
  },
  {
   "cell_type": "code",
   "execution_count": 4,
   "metadata": {},
   "outputs": [],
   "source": [
    "molcol = sheet[\"molecules\"]\n",
    "cascol = molcol.offset(0,1)\n",
    "mols, cass = [], []\n",
    "bool_read = True\n",
    "rowoff = 0\n",
    "while bool_read:\n",
    "    rowoff += 1\n",
    "    mol = molcol.offset(rowoff, 0).value\n",
    "    cas = cascol.offset(rowoff, 0).value\n",
    "    if mol == None:\n",
    "        bool_read = False\n",
    "    else:\n",
    "        mols.append(mol)\n",
    "        cass.append(int(cas))    "
   ]
  },
  {
   "cell_type": "code",
   "execution_count": 5,
   "metadata": {},
   "outputs": [],
   "source": [
    "def antoinePsat(T, A, B, C):\n",
    "    log10P = A - B/(T+C)\n",
    "    P = 10**log10P\n",
    "    return P\n",
    "\n",
    "def extendedPsat(T, C1, C2, C3, C4, C5):\n",
    "    logP = C1 + C2/T + C3*np.log(T) + C4*T**C5\n",
    "    return np.exp(logP)\n",
    "\n",
    "def residualP(params, Tdata, Pdata):\n",
    "    Pcalc = extendedPsat(np.array(Tdata), *params)\n",
    "    errors = np.log(Pcalc) - np.log(np.array(Pdata))\n",
    "    return errors"
   ]
  },
  {
   "cell_type": "code",
   "execution_count": 6,
   "metadata": {},
   "outputs": [
    {
     "name": "stderr",
     "output_type": "stream",
     "text": [
      "C:\\Users\\AshwinSecond\\anaconda3\\lib\\site-packages\\ipykernel_launcher.py:8: RuntimeWarning: overflow encountered in exp\n",
      "  \n",
      "C:\\Users\\AshwinSecond\\anaconda3\\lib\\site-packages\\ipykernel_launcher.py:8: RuntimeWarning: overflow encountered in exp\n",
      "  \n",
      "C:\\Users\\AshwinSecond\\anaconda3\\lib\\site-packages\\ipykernel_launcher.py:8: RuntimeWarning: overflow encountered in exp\n",
      "  \n",
      "C:\\Users\\AshwinSecond\\anaconda3\\lib\\site-packages\\ipykernel_launcher.py:8: RuntimeWarning: overflow encountered in exp\n",
      "  \n"
     ]
    },
    {
     "data": {
      "image/png": "[encoded data removed]",
      "text/plain": [
       "<Figure size 432x288 with 1 Axes>"
      ]
     },
     "metadata": {
      "needs_background": "light"
     },
     "output_type": "display_data"
    }
   ],
   "source": [
    "for i in range(len(mols)):\n",
    "    mol = mols[i]\n",
    "    cas = cass[i]\n",
    "    datatable = []\n",
    "    parameters = []\n",
    "    url = f'https://webbook.nist.gov/cgi/cbook.cgi?ID=C{cas}&Mask=4#Thermo-Phase'\n",
    "    page = re.get(url)\n",
    "    page = bs4.BeautifulSoup(page.text)\n",
    "    tables = page.findAll(\"table\")\n",
    "    for table in tables:\n",
    "        if table[\"aria-label\"] == \"Antoine Equation Parameters\":\n",
    "            break\n",
    "    rows = table.findAll('tr')[1:]\n",
    "\n",
    "    for irow in range(len(rows)):\n",
    "        row = rows[irow]\n",
    "        cells = row.findAll('td')\n",
    "        Tmin, Tmax = cells[0].text.split('-')\n",
    "        A = cells[1].text\n",
    "        B = cells[2].text\n",
    "        C = cells[3].text\n",
    "        data = [Tmin, Tmax, A, B, C]\n",
    "        data = [float(datum) for datum in data]\n",
    "        datatable.append(data)\n",
    "\n",
    "    listT = []\n",
    "    listPsat = []\n",
    "    for data in datatable:\n",
    "        [Tmin, Tmax, A, B, C] = data\n",
    "        TT = np.linspace(Tmin, Tmax, 20)\n",
    "        PT = antoinePsat(TT, A, B, C)\n",
    "        listT += list(TT)\n",
    "        listPsat += list(PT)\n",
    "\n",
    "    plsq = scopt.least_squares(residualP, [1,1,1,1,1], args=(listT, listPsat,))\n",
    "    parameters.append(plsq.x)\n",
    "    plt.plot(1/np.array(listT), np.log(np.array(listPsat)), 'ro')\n",
    "    Tmin = min(listT); Tmax = max(listT); T = np.linspace(Tmin, Tmax, 100)\n",
    "    Psat = extendedPsat(T, *plsq.x)\n",
    "    plt.plot(1/T, np.log(Psat), 'b')\n",
    "\n",
    "    dataexcel = [mol, cas, *plsq.x, Tmin, Tmax]\n",
    "    molcol = sheet[\"molecules\"]\n",
    "    writecol = molcol.offset(i+1, 0)\n",
    "    writecol.value = dataexcel"
   ]
  },
  {
   "cell_type": "code",
   "execution_count": null,
   "metadata": {},
   "outputs": [],
   "source": []
  },
  {
   "cell_type": "code",
   "execution_count": null,
   "metadata": {},
   "outputs": [],
   "source": []
  },
  {
   "cell_type": "code",
   "execution_count": null,
   "metadata": {},
   "outputs": [],
   "source": []
  }
 ],
 "metadata": {
  "kernelspec": {
   "display_name": "Python 3",
   "language": "python",
   "name": "python3"
  },
  "language_info": {
   "codemirror_mode": {
    "name": "ipython",
    "version": 3
   },
   "file_extension": ".py",
   "mimetype": "text/x-python",
   "name": "python",
   "nbconvert_exporter": "python",
   "pygments_lexer": "ipython3",
   "version": "3.7.6"
  }
 },
 "nbformat": 4,
 "nbformat_minor": 4
}
