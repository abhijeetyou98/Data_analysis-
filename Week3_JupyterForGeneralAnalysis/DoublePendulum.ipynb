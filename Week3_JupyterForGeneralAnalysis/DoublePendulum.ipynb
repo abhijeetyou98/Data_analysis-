{
 "cells": [
  {
   "cell_type": "code",
   "execution_count": 81,
   "metadata": {},
   "outputs": [],
   "source": [
    "import sympy \n",
    "import sympy.physics.mechanics as spm\n",
    "spm.init_vprinting()"
   ]
  },
  {
   "cell_type": "code",
   "execution_count": 3,
   "metadata": {},
   "outputs": [
    {
     "data": {
      "image/png": "[encoded data removed]",
      "text/latex": [
       "$\\displaystyle \\left( \\theta_{1}, \\  \\theta_{2}\\right)$"
      ],
      "text/plain": [
       "(θ₁, θ₂)"
      ]
     },
     "execution_count": 3,
     "metadata": {},
     "output_type": "execute_result"
    }
   ],
   "source": [
    "theta_1, theta_2 = spm.dynamicsymbols('theta_1, theta_2')\n",
    "theta_1, theta_2"
   ]
  },
  {
   "cell_type": "code",
   "execution_count": 4,
   "metadata": {},
   "outputs": [],
   "source": [
    "t = sympy.Symbol('t')"
   ]
  },
  {
   "cell_type": "code",
   "execution_count": 6,
   "metadata": {},
   "outputs": [
    {
     "data": {
      "image/png": "[encoded data removed]",
      "text/latex": [
       "$\\displaystyle \\left( \\dot{\\theta}_{1}, \\  \\dot{\\theta}_{2}\\right)$"
      ],
      "text/plain": [
       "(θ₁̇, θ₂̇)"
      ]
     },
     "execution_count": 6,
     "metadata": {},
     "output_type": "execute_result"
    }
   ],
   "source": [
    "theta_1_dot = theta_1.diff(t)\n",
    "theta_2_dot = theta_2.diff(t)\n",
    "theta_1_dot, theta_2_dot"
   ]
  },
  {
   "cell_type": "code",
   "execution_count": 10,
   "metadata": {},
   "outputs": [],
   "source": [
    "m_1, l_1, m_2, l_2, g = sympy.symbols('m_1, l_1, m_2, l_2, g')"
   ]
  },
  {
   "cell_type": "code",
   "execution_count": 11,
   "metadata": {},
   "outputs": [
    {
     "data": {
      "image/png": "[encoded data removed]",
      "text/latex": [
       "$\\displaystyle - g l_{1} m_{1} \\operatorname{cos}\\left(\\theta_{1}\\right) - g m_{2} \\left(l_{1} \\operatorname{cos}\\left(\\theta_{1}\\right) + l_{2} \\operatorname{cos}\\left(\\theta_{2}\\right)\\right)$"
      ],
      "text/plain": [
       "-g⋅l₁⋅m₁⋅cos(θ₁) - g⋅m₂⋅(l₁⋅cos(θ₁) + l₂⋅cos(θ₂))"
      ]
     },
     "execution_count": 11,
     "metadata": {},
     "output_type": "execute_result"
    }
   ],
   "source": [
    "U = -m_1*g*l_1*sympy.cos(theta_1) - m_2*g*(l_1*sympy.cos(theta_1) + l_2*sympy.cos(theta_2))\n",
    "U"
   ]
  },
  {
   "cell_type": "code",
   "execution_count": 12,
   "metadata": {},
   "outputs": [
    {
     "data": {
      "image/png": "[encoded data removed]",
      "text/latex": [
       "$\\displaystyle \\left( l_{1} \\operatorname{sin}\\left(\\theta_{1}\\right), \\  - l_{2} \\operatorname{cos}\\left(\\theta_{1}\\right), \\  l_{1} \\operatorname{sin}\\left(\\theta_{1}\\right) + l_{2} \\operatorname{sin}\\left(\\theta_{2}\\right), \\  - l_{2} \\operatorname{cos}\\left(\\theta_{1}\\right) - l_{2} \\operatorname{cos}\\left(\\theta_{2}\\right)\\right)$"
      ],
      "text/plain": [
       "(l₁⋅sin(θ₁), -l₂⋅cos(θ₁), l₁⋅sin(θ₁) + l₂⋅sin(θ₂), -l₂⋅cos(θ₁) - l₂⋅cos(θ₂))"
      ]
     },
     "execution_count": 12,
     "metadata": {},
     "output_type": "execute_result"
    }
   ],
   "source": [
    "x1 = l_1*sympy.sin(theta_1)\n",
    "y1 = -l_2*sympy.cos(theta_1)\n",
    "x2 = x1 + l_2*sympy.sin(theta_2)\n",
    "y2 = y1 - l_2*sympy.cos(theta_2)\n",
    "x1, y1, x2, y2"
   ]
  },
  {
   "cell_type": "code",
   "execution_count": 14,
   "metadata": {},
   "outputs": [
    {
     "data": {
      "image/png": "[encoded data removed]",
      "text/latex": [
       "$\\displaystyle \\left( l_{1} \\operatorname{cos}\\left(\\theta_{1}\\right) \\dot{\\theta}_{1}, \\  l_{2} \\operatorname{sin}\\left(\\theta_{1}\\right) \\dot{\\theta}_{1}, \\  l_{1} \\operatorname{cos}\\left(\\theta_{1}\\right) \\dot{\\theta}_{1} + l_{2} \\operatorname{cos}\\left(\\theta_{2}\\right) \\dot{\\theta}_{2}, \\  l_{2} \\operatorname{sin}\\left(\\theta_{1}\\right) \\dot{\\theta}_{1} + l_{2} \\operatorname{sin}\\left(\\theta_{2}\\right) \\dot{\\theta}_{2}\\right)$"
      ],
      "text/plain": [
       "(l₁⋅cos(θ₁)⋅θ₁̇, l₂⋅sin(θ₁)⋅θ₁̇, l₁⋅cos(θ₁)⋅θ₁̇ + l₂⋅cos(θ₂)⋅θ₂̇, l₂⋅sin(θ₁)⋅θ\n",
       "₁̇ + l₂⋅sin(θ₂)⋅θ₂̇)"
      ]
     },
     "execution_count": 14,
     "metadata": {},
     "output_type": "execute_result"
    }
   ],
   "source": [
    "x1_dot = x1.diff(t)\n",
    "x2_dot = x2.diff(t)\n",
    "y1_dot = y1.diff(t)\n",
    "y2_dot = y2.diff(t)\n",
    "x1_dot, y1_dot, x2_dot, y2_dot"
   ]
  },
  {
   "cell_type": "code",
   "execution_count": 15,
   "metadata": {},
   "outputs": [
    {
     "data": {
      "image/png": "[encoded data removed]",
      "text/latex": [
       "$\\displaystyle 0.5 m_{1} \\left(l_{1}^{2} \\operatorname{cos}^{2}\\left(\\theta_{1}\\right) \\dot{\\theta}_{1}^{2} + l_{2}^{2} \\operatorname{sin}^{2}\\left(\\theta_{1}\\right) \\dot{\\theta}_{1}^{2}\\right) + 0.5 m_{2} \\left(\\left(l_{1} \\operatorname{cos}\\left(\\theta_{1}\\right) \\dot{\\theta}_{1} + l_{2} \\operatorname{cos}\\left(\\theta_{2}\\right) \\dot{\\theta}_{2}\\right)^{2} + \\left(l_{2} \\operatorname{sin}\\left(\\theta_{1}\\right) \\dot{\\theta}_{1} + l_{2} \\operatorname{sin}\\left(\\theta_{2}\\right) \\dot{\\theta}_{2}\\right)^{2}\\right)$"
      ],
      "text/plain": [
       "       ⎛  2    2       2     2    2       2⎞          ⎛                       \n",
       "0.5⋅m₁⋅⎝l₁ ⋅cos (θ₁)⋅θ₁̇  + l₂ ⋅sin (θ₁)⋅θ₁̇ ⎠ + 0.5⋅m₂⋅⎝(l₁⋅cos(θ₁)⋅θ₁̇ + l₂⋅\n",
       "\n",
       "        2                                  2⎞\n",
       "cos(θ₂)⋅θ₂̇)  + (l₂⋅sin(θ₁)⋅θ₁̇ + l₂⋅sin(θ₂)⋅θ₂̇) ⎠"
      ]
     },
     "execution_count": 15,
     "metadata": {},
     "output_type": "execute_result"
    }
   ],
   "source": [
    "T = 1/2*m_1*(x1_dot**2 + y1_dot**2)+1/2*m_2*(x2_dot**2 + y2_dot**2)\n",
    "T"
   ]
  },
  {
   "cell_type": "code",
   "execution_count": 16,
   "metadata": {},
   "outputs": [
    {
     "data": {
      "image/png": "[encoded data removed]",
      "text/latex": [
       "$\\displaystyle g l_{1} m_{1} \\operatorname{cos}\\left(\\theta_{1}\\right) + g m_{2} \\left(l_{1} \\operatorname{cos}\\left(\\theta_{1}\\right) + l_{2} \\operatorname{cos}\\left(\\theta_{2}\\right)\\right) + 0.5 m_{1} \\left(l_{1}^{2} \\operatorname{cos}^{2}\\left(\\theta_{1}\\right) \\dot{\\theta}_{1}^{2} + l_{2}^{2} \\operatorname{sin}^{2}\\left(\\theta_{1}\\right) \\dot{\\theta}_{1}^{2}\\right) + 0.5 m_{2} \\left(\\left(l_{1} \\operatorname{cos}\\left(\\theta_{1}\\right) \\dot{\\theta}_{1} + l_{2} \\operatorname{cos}\\left(\\theta_{2}\\right) \\dot{\\theta}_{2}\\right)^{2} + \\left(l_{2} \\operatorname{sin}\\left(\\theta_{1}\\right) \\dot{\\theta}_{1} + l_{2} \\operatorname{sin}\\left(\\theta_{2}\\right) \\dot{\\theta}_{2}\\right)^{2}\\right)$"
      ],
      "text/plain": [
       "                                                          ⎛  2    2       2   \n",
       "g⋅l₁⋅m₁⋅cos(θ₁) + g⋅m₂⋅(l₁⋅cos(θ₁) + l₂⋅cos(θ₂)) + 0.5⋅m₁⋅⎝l₁ ⋅cos (θ₁)⋅θ₁̇  +\n",
       "\n",
       "  2    2       2⎞          ⎛                               2                  \n",
       " l₂ ⋅sin (θ₁)⋅θ₁̇ ⎠ + 0.5⋅m₂⋅⎝(l₁⋅cos(θ₁)⋅θ₁̇ + l₂⋅cos(θ₂)⋅θ₂̇)  + (l₂⋅sin(θ₁)\n",
       "\n",
       "                2⎞\n",
       "⋅θ₁̇ + l₂⋅sin(θ₂)⋅θ₂̇) ⎠"
      ]
     },
     "execution_count": 16,
     "metadata": {},
     "output_type": "execute_result"
    }
   ],
   "source": [
    "L = T - U\n",
    "L"
   ]
  },
  {
   "cell_type": "markdown",
   "metadata": {},
   "source": [
    "## Lagrangian Mechanics\n",
    "$$\n",
    "    \\frac{d}{dt}\\left( \\frac{\\partial L}{\\partial \\dot{q_j}}\\right) = \\frac{\\partial L}{\\partial q_j}\n",
    "$$"
   ]
  },
  {
   "cell_type": "code",
   "execution_count": 19,
   "metadata": {},
   "outputs": [],
   "source": [
    "partialLwrttheta_1 = sympy.diff(L, theta_1)\n",
    "partialLwrttheta_2 = sympy.diff(L, theta_2)\n",
    "partialLwrttheta_1_dot = sympy.diff(L, theta_1_dot)\n",
    "partialLwrttheta_2_dot = sympy.diff(L, theta_2_dot)\n"
   ]
  },
  {
   "cell_type": "code",
   "execution_count": 21,
   "metadata": {},
   "outputs": [],
   "source": [
    "LHS1 = partialLwrttheta_1_dot.diff(t)\n",
    "RHS1 = partialLwrttheta_1\n",
    "LHS2 = partialLwrttheta_2_dot.diff(t)\n",
    "RHS2 = partialLwrttheta_2"
   ]
  },
  {
   "cell_type": "code",
   "execution_count": 27,
   "metadata": {},
   "outputs": [],
   "source": [
    "theta_1_dot2 = theta_1_dot.diff(t)\n",
    "theta_2_dot2 = theta_2_dot.diff(t)"
   ]
  },
  {
   "cell_type": "code",
   "execution_count": 36,
   "metadata": {},
   "outputs": [],
   "source": [
    "LHS1 = LHS1.expand()\n",
    "A11 = LHS1.coeff(theta_1_dot2, 1)\n",
    "A12 = LHS1.coeff(theta_2_dot2, 1)\n",
    "B1 = LHS1.coeff(theta_1_dot2, 0) - A12*theta_2_dot2\n",
    "B1 = B1.expand()"
   ]
  },
  {
   "cell_type": "code",
   "execution_count": 38,
   "metadata": {},
   "outputs": [],
   "source": [
    "LHS2 = LHS2.expand()\n",
    "A21 = LHS2.coeff(theta_1_dot2, 1)\n",
    "A22 = LHS2.coeff(theta_2_dot2, 1)\n",
    "B2 = LHS2.coeff(theta_2_dot2, 0) - A21*theta_1_dot2\n",
    "B2 = B2.expand()"
   ]
  },
  {
   "cell_type": "code",
   "execution_count": 40,
   "metadata": {},
   "outputs": [],
   "source": [
    "b1 = RHS1 - B1\n",
    "b2 = RHS2 - B2\n",
    "b1 = b1.expand()\n",
    "b2 = b2.expand()"
   ]
  },
  {
   "cell_type": "code",
   "execution_count": 45,
   "metadata": {},
   "outputs": [],
   "source": [
    "M = sympy.Matrix([[A11, A12],[A21, A22]])\n",
    "b = sympy.Matrix([[b1],[b2]])"
   ]
  },
  {
   "cell_type": "code",
   "execution_count": 50,
   "metadata": {},
   "outputs": [
    {
     "data": {
      "text/latex": [
       "$\\displaystyle \\left[\\begin{matrix}\\frac{\\left(1.0 l_{2}^{2} m_{2} \\operatorname{sin}^{2}\\left(\\theta_{2}\\right) + 1.0 l_{2}^{2} m_{2} \\operatorname{cos}^{2}\\left(\\theta_{2}\\right)\\right) \\left(1.0 l_{1}^{2} m_{1} \\operatorname{cos}^{2}\\left(\\theta_{1}\\right) + 1.0 l_{1}^{2} m_{2} \\operatorname{cos}^{2}\\left(\\theta_{1}\\right) + 1.0 l_{2}^{2} m_{1} \\operatorname{sin}^{2}\\left(\\theta_{1}\\right) + 1.0 l_{2}^{2} m_{2} \\operatorname{sin}^{2}\\left(\\theta_{1}\\right)\\right) - \\left(- 1.0 l_{1} l_{2} m_{2} \\operatorname{cos}\\left(\\theta_{1}\\right) \\operatorname{cos}\\left(\\theta_{2}\\right) - 1.0 l_{2}^{2} m_{2} \\operatorname{sin}\\left(\\theta_{1}\\right) \\operatorname{sin}\\left(\\theta_{2}\\right)\\right) \\left(1.0 l_{1} l_{2} m_{2} \\operatorname{cos}\\left(\\theta_{1}\\right) \\operatorname{cos}\\left(\\theta_{2}\\right) + 1.0 l_{2}^{2} m_{2} \\operatorname{sin}\\left(\\theta_{1}\\right) \\operatorname{sin}\\left(\\theta_{2}\\right)\\right) - \\left(1.0 l_{1} l_{2} m_{2} \\operatorname{cos}\\left(\\theta_{1}\\right) \\operatorname{cos}\\left(\\theta_{2}\\right) + 1.0 l_{2}^{2} m_{2} \\operatorname{sin}\\left(\\theta_{1}\\right) \\operatorname{sin}\\left(\\theta_{2}\\right)\\right)^{2}}{\\left(\\left(1.0 l_{2}^{2} m_{2} \\operatorname{sin}^{2}\\left(\\theta_{2}\\right) + 1.0 l_{2}^{2} m_{2} \\operatorname{cos}^{2}\\left(\\theta_{2}\\right)\\right) \\left(1.0 l_{1}^{2} m_{1} \\operatorname{cos}^{2}\\left(\\theta_{1}\\right) + 1.0 l_{1}^{2} m_{2} \\operatorname{cos}^{2}\\left(\\theta_{1}\\right) + 1.0 l_{2}^{2} m_{1} \\operatorname{sin}^{2}\\left(\\theta_{1}\\right) + 1.0 l_{2}^{2} m_{2} \\operatorname{sin}^{2}\\left(\\theta_{1}\\right)\\right) - \\left(1.0 l_{1} l_{2} m_{2} \\operatorname{cos}\\left(\\theta_{1}\\right) \\operatorname{cos}\\left(\\theta_{2}\\right) + 1.0 l_{2}^{2} m_{2} \\operatorname{sin}\\left(\\theta_{1}\\right) \\operatorname{sin}\\left(\\theta_{2}\\right)\\right)^{2}\\right) \\left(1.0 l_{1}^{2} m_{1} \\operatorname{cos}^{2}\\left(\\theta_{1}\\right) + 1.0 l_{1}^{2} m_{2} \\operatorname{cos}^{2}\\left(\\theta_{1}\\right) + 1.0 l_{2}^{2} m_{1} \\operatorname{sin}^{2}\\left(\\theta_{1}\\right) + 1.0 l_{2}^{2} m_{2} \\operatorname{sin}^{2}\\left(\\theta_{1}\\right)\\right)} & - \\frac{1.0 l_{1} l_{2} m_{2} \\operatorname{cos}\\left(\\theta_{1}\\right) \\operatorname{cos}\\left(\\theta_{2}\\right) + 1.0 l_{2}^{2} m_{2} \\operatorname{sin}\\left(\\theta_{1}\\right) \\operatorname{sin}\\left(\\theta_{2}\\right)}{\\left(1.0 l_{2}^{2} m_{2} \\operatorname{sin}^{2}\\left(\\theta_{2}\\right) + 1.0 l_{2}^{2} m_{2} \\operatorname{cos}^{2}\\left(\\theta_{2}\\right)\\right) \\left(1.0 l_{1}^{2} m_{1} \\operatorname{cos}^{2}\\left(\\theta_{1}\\right) + 1.0 l_{1}^{2} m_{2} \\operatorname{cos}^{2}\\left(\\theta_{1}\\right) + 1.0 l_{2}^{2} m_{1} \\operatorname{sin}^{2}\\left(\\theta_{1}\\right) + 1.0 l_{2}^{2} m_{2} \\operatorname{sin}^{2}\\left(\\theta_{1}\\right)\\right) - \\left(1.0 l_{1} l_{2} m_{2} \\operatorname{cos}\\left(\\theta_{1}\\right) \\operatorname{cos}\\left(\\theta_{2}\\right) + 1.0 l_{2}^{2} m_{2} \\operatorname{sin}\\left(\\theta_{1}\\right) \\operatorname{sin}\\left(\\theta_{2}\\right)\\right)^{2}}\\\\\\frac{- 1.0 l_{1} l_{2} m_{2} \\operatorname{cos}\\left(\\theta_{1}\\right) \\operatorname{cos}\\left(\\theta_{2}\\right) - 1.0 l_{2}^{2} m_{2} \\operatorname{sin}\\left(\\theta_{1}\\right) \\operatorname{sin}\\left(\\theta_{2}\\right)}{\\left(1.0 l_{2}^{2} m_{2} \\operatorname{sin}^{2}\\left(\\theta_{2}\\right) + 1.0 l_{2}^{2} m_{2} \\operatorname{cos}^{2}\\left(\\theta_{2}\\right)\\right) \\left(1.0 l_{1}^{2} m_{1} \\operatorname{cos}^{2}\\left(\\theta_{1}\\right) + 1.0 l_{1}^{2} m_{2} \\operatorname{cos}^{2}\\left(\\theta_{1}\\right) + 1.0 l_{2}^{2} m_{1} \\operatorname{sin}^{2}\\left(\\theta_{1}\\right) + 1.0 l_{2}^{2} m_{2} \\operatorname{sin}^{2}\\left(\\theta_{1}\\right)\\right) - \\left(1.0 l_{1} l_{2} m_{2} \\operatorname{cos}\\left(\\theta_{1}\\right) \\operatorname{cos}\\left(\\theta_{2}\\right) + 1.0 l_{2}^{2} m_{2} \\operatorname{sin}\\left(\\theta_{1}\\right) \\operatorname{sin}\\left(\\theta_{2}\\right)\\right)^{2}} & \\frac{1.0 l_{1}^{2} m_{1} \\operatorname{cos}^{2}\\left(\\theta_{1}\\right) + 1.0 l_{1}^{2} m_{2} \\operatorname{cos}^{2}\\left(\\theta_{1}\\right) + 1.0 l_{2}^{2} m_{1} \\operatorname{sin}^{2}\\left(\\theta_{1}\\right) + 1.0 l_{2}^{2} m_{2} \\operatorname{sin}^{2}\\left(\\theta_{1}\\right)}{\\left(1.0 l_{2}^{2} m_{2} \\operatorname{sin}^{2}\\left(\\theta_{2}\\right) + 1.0 l_{2}^{2} m_{2} \\operatorname{cos}^{2}\\left(\\theta_{2}\\right)\\right) \\left(1.0 l_{1}^{2} m_{1} \\operatorname{cos}^{2}\\left(\\theta_{1}\\right) + 1.0 l_{1}^{2} m_{2} \\operatorname{cos}^{2}\\left(\\theta_{1}\\right) + 1.0 l_{2}^{2} m_{1} \\operatorname{sin}^{2}\\left(\\theta_{1}\\right) + 1.0 l_{2}^{2} m_{2} \\operatorname{sin}^{2}\\left(\\theta_{1}\\right)\\right) - \\left(1.0 l_{1} l_{2} m_{2} \\operatorname{cos}\\left(\\theta_{1}\\right) \\operatorname{cos}\\left(\\theta_{2}\\right) + 1.0 l_{2}^{2} m_{2} \\operatorname{sin}\\left(\\theta_{1}\\right) \\operatorname{sin}\\left(\\theta_{2}\\right)\\right)^{2}}\\end{matrix}\\right]$"
      ],
      "text/plain": [
       "⎡                                                                             \n",
       "⎢⎛      2       2             2       2    ⎞ ⎛      2       2             2   \n",
       "⎢⎝1.0⋅l₂ ⋅m₂⋅sin (θ₂) + 1.0⋅l₂ ⋅m₂⋅cos (θ₂)⎠⋅⎝1.0⋅l₁ ⋅m₁⋅cos (θ₁) + 1.0⋅l₁ ⋅m₂\n",
       "⎢─────────────────────────────────────────────────────────────────────────────\n",
       "⎢                 ⎛                                                           \n",
       "⎢                 ⎜⎛      2       2             2       2    ⎞ ⎛      2       \n",
       "⎢                 ⎝⎝1.0⋅l₂ ⋅m₂⋅sin (θ₂) + 1.0⋅l₂ ⋅m₂⋅cos (θ₂)⎠⋅⎝1.0⋅l₁ ⋅m₁⋅cos\n",
       "⎢                                                                             \n",
       "⎢                                                                             \n",
       "⎢                                                                             \n",
       "⎢                                                             ────────────────\n",
       "⎢                                                                             \n",
       "⎢                                                             ⎛      2       2\n",
       "⎣                                                             ⎝1.0⋅l₂ ⋅m₂⋅sin \n",
       "\n",
       "                                                                              \n",
       "    2             2       2             2       2    ⎞   ⎛                    \n",
       "⋅cos (θ₁) + 1.0⋅l₂ ⋅m₁⋅sin (θ₁) + 1.0⋅l₂ ⋅m₂⋅sin (θ₁)⎠ - ⎝-1.0⋅l₁⋅l₂⋅m₂⋅cos(θ₁\n",
       "──────────────────────────────────────────────────────────────────────────────\n",
       "                                                                              \n",
       "2             2       2             2       2             2       2    ⎞   ⎛  \n",
       " (θ₁) + 1.0⋅l₁ ⋅m₂⋅cos (θ₁) + 1.0⋅l₂ ⋅m₁⋅sin (θ₁) + 1.0⋅l₂ ⋅m₂⋅sin (θ₁)⎠ - ⎝1.\n",
       "                                                                              \n",
       "                                                                              \n",
       "                                                    -1.0⋅l₁⋅l₂⋅m₂⋅cos(θ₁)⋅cos(\n",
       "──────────────────────────────────────────────────────────────────────────────\n",
       "                                                                              \n",
       "             2       2    ⎞ ⎛      2       2             2       2            \n",
       "(θ₂) + 1.0⋅l₂ ⋅m₂⋅cos (θ₂)⎠⋅⎝1.0⋅l₁ ⋅m₁⋅cos (θ₁) + 1.0⋅l₁ ⋅m₂⋅cos (θ₁) + 1.0⋅l\n",
       "\n",
       "                                                                              \n",
       "                  2                   ⎞ ⎛                                     \n",
       ")⋅cos(θ₂) - 1.0⋅l₂ ⋅m₂⋅sin(θ₁)⋅sin(θ₂)⎠⋅⎝1.0⋅l₁⋅l₂⋅m₂⋅cos(θ₁)⋅cos(θ₂) + 1.0⋅l₂\n",
       "──────────────────────────────────────────────────────────────────────────────\n",
       "                                                        2⎞                    \n",
       "                                   2                   ⎞ ⎟ ⎛      2       2   \n",
       "0⋅l₁⋅l₂⋅m₂⋅cos(θ₁)⋅cos(θ₂) + 1.0⋅l₂ ⋅m₂⋅sin(θ₁)⋅sin(θ₂)⎠ ⎠⋅⎝1.0⋅l₁ ⋅m₁⋅cos (θ₁\n",
       "                                                                              \n",
       "            2                                                                 \n",
       "θ₂) - 1.0⋅l₂ ⋅m₂⋅sin(θ₁)⋅sin(θ₂)                                              \n",
       "──────────────────────────────────────────────────────────────────────────────\n",
       "                                                                              \n",
       " 2       2             2       2    ⎞   ⎛                                     \n",
       "₂ ⋅m₁⋅sin (θ₁) + 1.0⋅l₂ ⋅m₂⋅sin (θ₁)⎠ - ⎝1.0⋅l₁⋅l₂⋅m₂⋅cos(θ₁)⋅cos(θ₂) + 1.0⋅l₂\n",
       "\n",
       "                                                                              \n",
       "2                   ⎞   ⎛                                     2               \n",
       " ⋅m₂⋅sin(θ₁)⋅sin(θ₂)⎠ - ⎝1.0⋅l₁⋅l₂⋅m₂⋅cos(θ₁)⋅cos(θ₂) + 1.0⋅l₂ ⋅m₂⋅sin(θ₁)⋅sin\n",
       "──────────────────────────────────────────────────────────────────────────────\n",
       "                                                                              \n",
       "          2       2             2       2             2       2    ⎞          \n",
       ") + 1.0⋅l₁ ⋅m₂⋅cos (θ₁) + 1.0⋅l₂ ⋅m₁⋅sin (θ₁) + 1.0⋅l₂ ⋅m₂⋅sin (θ₁)⎠          \n",
       "                                                                              \n",
       "                                                                              \n",
       "                                                                              \n",
       "──────────────────────                                                        \n",
       "                     2                                                        \n",
       "2                   ⎞                                                         \n",
       " ⋅m₂⋅sin(θ₁)⋅sin(θ₂)⎠                                                         \n",
       "\n",
       "     2                                                                        \n",
       "    ⎞                                                                      ⎛  \n",
       "(θ₂)⎠                                                                     -⎝1.\n",
       "──────  ──────────────────────────────────────────────────────────────────────\n",
       "                                                                              \n",
       "        ⎛      2       2             2       2    ⎞ ⎛      2       2          \n",
       "        ⎝1.0⋅l₂ ⋅m₂⋅sin (θ₂) + 1.0⋅l₂ ⋅m₂⋅cos (θ₂)⎠⋅⎝1.0⋅l₁ ⋅m₁⋅cos (θ₁) + 1.0\n",
       "                                                                              \n",
       "                                                                    2       2 \n",
       "                                                              1.0⋅l₁ ⋅m₁⋅cos (\n",
       "        ──────────────────────────────────────────────────────────────────────\n",
       "                                                                              \n",
       "        ⎛      2       2             2       2    ⎞ ⎛      2       2          \n",
       "        ⎝1.0⋅l₂ ⋅m₂⋅sin (θ₂) + 1.0⋅l₂ ⋅m₂⋅cos (θ₂)⎠⋅⎝1.0⋅l₁ ⋅m₁⋅cos (θ₁) + 1.0\n",
       "\n",
       "                                                                              \n",
       "                                   2                   ⎞                      \n",
       "0⋅l₁⋅l₂⋅m₂⋅cos(θ₁)⋅cos(θ₂) + 1.0⋅l₂ ⋅m₂⋅sin(θ₁)⋅sin(θ₂)⎠                      \n",
       "──────────────────────────────────────────────────────────────────────────────\n",
       "                                                                              \n",
       "   2       2             2       2             2       2    ⎞   ⎛             \n",
       "⋅l₁ ⋅m₂⋅cos (θ₁) + 1.0⋅l₂ ⋅m₁⋅sin (θ₁) + 1.0⋅l₂ ⋅m₂⋅sin (θ₁)⎠ - ⎝1.0⋅l₁⋅l₂⋅m₂⋅\n",
       "                                                                              \n",
       "            2       2             2       2             2       2             \n",
       "θ₁) + 1.0⋅l₁ ⋅m₂⋅cos (θ₁) + 1.0⋅l₂ ⋅m₁⋅sin (θ₁) + 1.0⋅l₂ ⋅m₂⋅sin (θ₁)         \n",
       "──────────────────────────────────────────────────────────────────────────────\n",
       "                                                                              \n",
       "   2       2             2       2             2       2    ⎞   ⎛             \n",
       "⋅l₁ ⋅m₂⋅cos (θ₁) + 1.0⋅l₂ ⋅m₁⋅sin (θ₁) + 1.0⋅l₂ ⋅m₂⋅sin (θ₁)⎠ - ⎝1.0⋅l₁⋅l₂⋅m₂⋅\n",
       "\n",
       "                                              ⎤\n",
       "                                              ⎥\n",
       "                                              ⎥\n",
       "──────────────────────────────────────────────⎥\n",
       "                                             2⎥\n",
       "                        2                   ⎞ ⎥\n",
       "cos(θ₁)⋅cos(θ₂) + 1.0⋅l₂ ⋅m₂⋅sin(θ₁)⋅sin(θ₂)⎠ ⎥\n",
       "                                              ⎥\n",
       "                                              ⎥\n",
       "                                              ⎥\n",
       "──────────────────────────────────────────────⎥\n",
       "                                             2⎥\n",
       "                        2                   ⎞ ⎥\n",
       "cos(θ₁)⋅cos(θ₂) + 1.0⋅l₂ ⋅m₂⋅sin(θ₁)⋅sin(θ₂)⎠ ⎦"
      ]
     },
     "execution_count": 50,
     "metadata": {},
     "output_type": "execute_result"
    }
   ],
   "source": [
    "Minv = M.inv()\n",
    "Minv"
   ]
  },
  {
   "cell_type": "code",
   "execution_count": 57,
   "metadata": {},
   "outputs": [],
   "source": [
    "theta_dot2 = Minv*b"
   ]
  },
  {
   "cell_type": "code",
   "execution_count": 59,
   "metadata": {},
   "outputs": [
    {
     "data": {
      "image/png": "[encoded data removed]",
      "text/latex": [
       "$\\displaystyle \\frac{- 1.0 g l_{1} m_{1} \\operatorname{sin}\\left(\\theta_{1}\\right) - 0.25 g l_{1} m_{2} \\operatorname{sin}\\left(\\theta_{1} - 2 \\theta_{2}\\right) + 0.25 g l_{1} m_{2} \\operatorname{sin}\\left(\\theta_{1} + 2 \\theta_{2}\\right) - 1.0 g l_{1} m_{2} \\operatorname{sin}\\left(\\theta_{1}\\right) - 0.25 g l_{2} m_{2} \\operatorname{sin}\\left(\\theta_{1} - 2 \\theta_{2}\\right) - 0.25 g l_{2} m_{2} \\operatorname{sin}\\left(\\theta_{1} + 2 \\theta_{2}\\right) + 0.5 g l_{2} m_{2} \\operatorname{sin}\\left(\\theta_{1}\\right) + 0.5 l_{1}^{2} m_{1} \\operatorname{sin}\\left(2 \\theta_{1}\\right) \\dot{\\theta}_{1}^{2} - 0.125 l_{1}^{2} m_{2} \\operatorname{sin}\\left(2 \\theta_{1} - 2 \\theta_{2}\\right) \\dot{\\theta}_{1}^{2} - 0.125 l_{1}^{2} m_{2} \\operatorname{sin}\\left(2 \\theta_{1} + 2 \\theta_{2}\\right) \\dot{\\theta}_{1}^{2} + 0.25 l_{1}^{2} m_{2} \\operatorname{sin}\\left(2 \\theta_{1}\\right) \\dot{\\theta}_{1}^{2} - 0.5 l_{1} l_{2} m_{2} \\operatorname{sin}\\left(\\theta_{1} - \\theta_{2}\\right) \\dot{\\theta}_{2}^{2} + 0.5 l_{1} l_{2} m_{2} \\operatorname{sin}\\left(\\theta_{1} + \\theta_{2}\\right) \\dot{\\theta}_{2}^{2} - 0.25 l_{1} l_{2} m_{2} \\operatorname{sin}\\left(2 \\theta_{1} - 2 \\theta_{2}\\right) \\dot{\\theta}_{1}^{2} + 0.25 l_{1} l_{2} m_{2} \\operatorname{sin}\\left(2 \\theta_{1} + 2 \\theta_{2}\\right) \\dot{\\theta}_{1}^{2} - 0.5 l_{2}^{2} m_{1} \\operatorname{sin}\\left(2 \\theta_{1}\\right) \\dot{\\theta}_{1}^{2} - 0.5 l_{2}^{2} m_{2} \\operatorname{sin}\\left(\\theta_{1} - \\theta_{2}\\right) \\dot{\\theta}_{2}^{2} - 0.5 l_{2}^{2} m_{2} \\operatorname{sin}\\left(\\theta_{1} + \\theta_{2}\\right) \\dot{\\theta}_{2}^{2} - 0.125 l_{2}^{2} m_{2} \\operatorname{sin}\\left(2 \\theta_{1} - 2 \\theta_{2}\\right) \\dot{\\theta}_{1}^{2} - 0.125 l_{2}^{2} m_{2} \\operatorname{sin}\\left(2 \\theta_{1} + 2 \\theta_{2}\\right) \\dot{\\theta}_{1}^{2} - 0.25 l_{2}^{2} m_{2} \\operatorname{sin}\\left(2 \\theta_{1}\\right) \\dot{\\theta}_{1}^{2}}{- 1.0 l_{1}^{2} m_{1} \\operatorname{sin}^{2}\\left(\\theta_{1}\\right) + 1.0 l_{1}^{2} m_{1} - 1.0 l_{1}^{2} m_{2} \\operatorname{sin}^{2}\\left(\\theta_{1}\\right) \\operatorname{sin}^{2}\\left(\\theta_{2}\\right) + 1.0 l_{1}^{2} m_{2} \\operatorname{sin}^{2}\\left(\\theta_{2}\\right) - 2.0 l_{1} l_{2} m_{2} \\operatorname{sin}\\left(\\theta_{1}\\right) \\operatorname{sin}\\left(\\theta_{2}\\right) \\operatorname{cos}\\left(\\theta_{1}\\right) \\operatorname{cos}\\left(\\theta_{2}\\right) + 1.0 l_{2}^{2} m_{1} \\operatorname{sin}^{2}\\left(\\theta_{1}\\right) - 1.0 l_{2}^{2} m_{2} \\operatorname{sin}^{2}\\left(\\theta_{1}\\right) \\operatorname{sin}^{2}\\left(\\theta_{2}\\right) + 1.0 l_{2}^{2} m_{2} \\operatorname{sin}^{2}\\left(\\theta_{1}\\right)}$"
      ],
      "text/plain": [
       "                                                                              \n",
       "-1.0⋅g⋅l₁⋅m₁⋅sin(θ₁) - 0.25⋅g⋅l₁⋅m₂⋅sin(θ₁ - 2⋅θ₂) + 0.25⋅g⋅l₁⋅m₂⋅sin(θ₁ + 2⋅θ\n",
       "──────────────────────────────────────────────────────────────────────────────\n",
       "                                                                              \n",
       "                                                                              \n",
       "\n",
       "                                                                              \n",
       "₂) - 1.0⋅g⋅l₁⋅m₂⋅sin(θ₁) - 0.25⋅g⋅l₂⋅m₂⋅sin(θ₁ - 2⋅θ₂) - 0.25⋅g⋅l₂⋅m₂⋅sin(θ₁ +\n",
       "──────────────────────────────────────────────────────────────────────────────\n",
       "                                                                              \n",
       "                                                                              \n",
       "\n",
       "                                     2                2           2           \n",
       " 2⋅θ₂) + 0.5⋅g⋅l₂⋅m₂⋅sin(θ₁) + 0.5⋅l₁ ⋅m₁⋅sin(2⋅θ₁)⋅θ₁̇  - 0.125⋅l₁ ⋅m₂⋅sin(2⋅\n",
       "──────────────────────────────────────────────────────────────────────────────\n",
       "                                                                 2       2    \n",
       "                                                         - 1.0⋅l₁ ⋅m₁⋅sin (θ₁)\n",
       "\n",
       "            2           2                       2          2                2 \n",
       "θ₁ - 2⋅θ₂)⋅θ₁̇  - 0.125⋅l₁ ⋅m₂⋅sin(2⋅θ₁ + 2⋅θ₂)⋅θ₁̇  + 0.25⋅l₁ ⋅m₂⋅sin(2⋅θ₁)⋅θ\n",
       "──────────────────────────────────────────────────────────────────────────────\n",
       "         2            2       2        2             2       2                \n",
       " + 1.0⋅l₁ ⋅m₁ - 1.0⋅l₁ ⋅m₂⋅sin (θ₁)⋅sin (θ₂) + 1.0⋅l₁ ⋅m₂⋅sin (θ₂) - 2.0⋅l₁⋅l₂\n",
       "\n",
       "                              2                               2               \n",
       "₁̇  - 0.5⋅l₁⋅l₂⋅m₂⋅sin(θ₁ - θ₂)⋅θ₂̇  + 0.5⋅l₁⋅l₂⋅m₂⋅sin(θ₁ + θ₂)⋅θ₂̇  - 0.25⋅l\n",
       "──────────────────────────────────────────────────────────────────────────────\n",
       "                                            2       2             2       2   \n",
       "⋅m₂⋅sin(θ₁)⋅sin(θ₂)⋅cos(θ₁)⋅cos(θ₂) + 1.0⋅l₂ ⋅m₁⋅sin (θ₁) - 1.0⋅l₂ ⋅m₂⋅sin (θ₁\n",
       "\n",
       "                     2                                    2         2         \n",
       "₁⋅l₂⋅m₂⋅sin(2⋅θ₁ - 2⋅θ₂)⋅θ₁̇  + 0.25⋅l₁⋅l₂⋅m₂⋅sin(2⋅θ₁ + 2⋅θ₂)⋅θ₁̇  - 0.5⋅l₂ ⋅\n",
       "──────────────────────────────────────────────────────────────────────────────\n",
       "     2             2       2                                                  \n",
       ")⋅sin (θ₂) + 1.0⋅l₂ ⋅m₂⋅sin (θ₁)                                              \n",
       "\n",
       "       2         2                   2         2                   2          \n",
       "m₁⋅sin(2⋅θ₁)⋅θ₁̇  - 0.5⋅l₂ ⋅m₂⋅sin(θ₁ - θ₂)⋅θ₂̇  - 0.5⋅l₂ ⋅m₂⋅sin(θ₁ + θ₂)⋅θ₂̇\n",
       "──────────────────────────────────────────────────────────────────────────────\n",
       "                                                                              \n",
       "                                                                              \n",
       "\n",
       " 2                       2           2                       2          2     \n",
       "  - 0.125⋅l₂ ⋅m₂⋅sin(2⋅θ₁ - 2⋅θ₂)⋅θ₁̇  - 0.125⋅l₂ ⋅m₂⋅sin(2⋅θ₁ + 2⋅θ₂)⋅θ₁̇  - \n",
       "──────────────────────────────────────────────────────────────────────────────\n",
       "                                                                              \n",
       "                                                                              \n",
       "\n",
       "           2\n",
       "0.25⋅l₂ ⋅m₂⋅sin(2⋅θ₁)⋅θ₁̇ \n",
       "────────────\n",
       "            \n",
       "            "
      ]
     },
     "execution_count": 59,
     "metadata": {},
     "output_type": "execute_result"
    }
   ],
   "source": [
    "acctheta1 = theta_dot2[0].expand()\n",
    "acctheta1 = acctheta1.simplify()\n",
    "acctheta1"
   ]
  },
  {
   "cell_type": "code",
   "execution_count": 60,
   "metadata": {},
   "outputs": [
    {
     "data": {
      "image/png": "[encoded data removed]",
      "text/latex": [
       "$\\displaystyle \\frac{1.0 \\left(g l_{1}^{2} m_{1} \\operatorname{sin}\\left(\\theta_{1}\\right) \\operatorname{cos}\\left(\\theta_{1} - \\theta_{2}\\right) - g l_{1}^{2} m_{1} \\operatorname{sin}\\left(\\theta_{2}\\right) + g l_{1}^{2} m_{2} \\operatorname{sin}\\left(\\theta_{1}\\right) \\operatorname{cos}\\left(\\theta_{1} - \\theta_{2}\\right) - g l_{1}^{2} m_{2} \\operatorname{sin}\\left(\\theta_{2}\\right) + g l_{1} l_{2} m_{1} \\operatorname{sin}^{2}\\left(\\theta_{1}\\right) \\operatorname{sin}\\left(\\theta_{2}\\right) + g l_{1} l_{2} m_{2} \\operatorname{sin}^{2}\\left(\\theta_{1}\\right) \\operatorname{sin}\\left(\\theta_{2}\\right) - g l_{2}^{2} m_{1} \\operatorname{sin}^{2}\\left(\\theta_{1}\\right) \\operatorname{sin}\\left(\\theta_{2}\\right) - g l_{2}^{2} m_{2} \\operatorname{sin}^{2}\\left(\\theta_{1}\\right) \\operatorname{sin}\\left(\\theta_{2}\\right) - l_{1}^{2} l_{2} m_{1} \\operatorname{sin}\\left(\\theta_{2}\\right) \\operatorname{cos}\\left(\\theta_{1}\\right) \\dot{\\theta}_{1}^{2} + l_{1}^{2} l_{2} m_{2} \\operatorname{sin}^{2}\\left(\\theta_{1}\\right) \\operatorname{sin}\\left(\\theta_{2}\\right) \\operatorname{cos}\\left(\\theta_{2}\\right) \\dot{\\theta}_{2}^{2} - l_{1}^{2} l_{2} m_{2} \\operatorname{sin}\\left(\\theta_{2}\\right) \\operatorname{cos}\\left(\\theta_{1}\\right) \\dot{\\theta}_{1}^{2} - l_{1}^{2} l_{2} m_{2} \\operatorname{sin}\\left(\\theta_{2}\\right) \\operatorname{cos}\\left(\\theta_{2}\\right) \\dot{\\theta}_{2}^{2} + l_{1} l_{2}^{2} m_{1} \\operatorname{sin}\\left(\\theta_{1}\\right) \\operatorname{cos}\\left(\\theta_{2}\\right) \\dot{\\theta}_{1}^{2} - 2 l_{1} l_{2}^{2} m_{2} \\operatorname{sin}\\left(\\theta_{1}\\right) \\operatorname{sin}^{2}\\left(\\theta_{2}\\right) \\operatorname{cos}\\left(\\theta_{1}\\right) \\dot{\\theta}_{2}^{2} + l_{1} l_{2}^{2} m_{2} \\operatorname{sin}\\left(\\theta_{1}\\right) \\operatorname{cos}\\left(\\theta_{1}\\right) \\dot{\\theta}_{2}^{2} + l_{1} l_{2}^{2} m_{2} \\operatorname{sin}\\left(\\theta_{1}\\right) \\operatorname{cos}\\left(\\theta_{2}\\right) \\dot{\\theta}_{1}^{2} + l_{2}^{3} m_{2} \\operatorname{sin}^{2}\\left(\\theta_{1}\\right) \\operatorname{sin}\\left(\\theta_{2}\\right) \\operatorname{cos}\\left(\\theta_{2}\\right) \\dot{\\theta}_{2}^{2}\\right)}{l_{2} \\left(- 1.0 l_{1}^{2} m_{1} \\operatorname{sin}^{2}\\left(\\theta_{1}\\right) + 1.0 l_{1}^{2} m_{1} - 1.0 l_{1}^{2} m_{2} \\operatorname{sin}^{2}\\left(\\theta_{1}\\right) \\operatorname{sin}^{2}\\left(\\theta_{2}\\right) + 1.0 l_{1}^{2} m_{2} \\operatorname{sin}^{2}\\left(\\theta_{2}\\right) - 2.0 l_{1} l_{2} m_{2} \\operatorname{sin}\\left(\\theta_{1}\\right) \\operatorname{sin}\\left(\\theta_{2}\\right) \\operatorname{cos}\\left(\\theta_{1}\\right) \\operatorname{cos}\\left(\\theta_{2}\\right) + 1.0 l_{2}^{2} m_{1} \\operatorname{sin}^{2}\\left(\\theta_{1}\\right) - 1.0 l_{2}^{2} m_{2} \\operatorname{sin}^{2}\\left(\\theta_{1}\\right) \\operatorname{sin}^{2}\\left(\\theta_{2}\\right) + 1.0 l_{2}^{2} m_{2} \\operatorname{sin}^{2}\\left(\\theta_{1}\\right)\\right)}$"
      ],
      "text/plain": [
       "    ⎛    2                               2                  2                 \n",
       "1.0⋅⎝g⋅l₁ ⋅m₁⋅sin(θ₁)⋅cos(θ₁ - θ₂) - g⋅l₁ ⋅m₁⋅sin(θ₂) + g⋅l₁ ⋅m₂⋅sin(θ₁)⋅cos(θ\n",
       "──────────────────────────────────────────────────────────────────────────────\n",
       "                                                                              \n",
       "                                                                              \n",
       "\n",
       "              2                            2                             2    \n",
       "₁ - θ₂) - g⋅l₁ ⋅m₂⋅sin(θ₂) + g⋅l₁⋅l₂⋅m₁⋅sin (θ₁)⋅sin(θ₂) + g⋅l₁⋅l₂⋅m₂⋅sin (θ₁)\n",
       "──────────────────────────────────────────────────────────────────────────────\n",
       "                                                                              \n",
       "                                                                              \n",
       "\n",
       "               2       2                   2       2                 2        \n",
       "⋅sin(θ₂) - g⋅l₂ ⋅m₁⋅sin (θ₁)⋅sin(θ₂) - g⋅l₂ ⋅m₂⋅sin (θ₁)⋅sin(θ₂) - l₁ ⋅l₂⋅m₁⋅s\n",
       "──────────────────────────────────────────────────────────────────────────────\n",
       "        ⎛        2       2             2            2       2        2        \n",
       "     l₂⋅⎝- 1.0⋅l₁ ⋅m₁⋅sin (θ₁) + 1.0⋅l₁ ⋅m₁ - 1.0⋅l₁ ⋅m₂⋅sin (θ₁)⋅sin (θ₂) + 1\n",
       "\n",
       "                 2     2          2                       2     2             \n",
       "in(θ₂)⋅cos(θ₁)⋅θ₁̇  + l₁ ⋅l₂⋅m₂⋅sin (θ₁)⋅sin(θ₂)⋅cos(θ₂)⋅θ₂̇  - l₁ ⋅l₂⋅m₂⋅sin(\n",
       "──────────────────────────────────────────────────────────────────────────────\n",
       "     2       2                                                            2   \n",
       ".0⋅l₁ ⋅m₂⋅sin (θ₂) - 2.0⋅l₁⋅l₂⋅m₂⋅sin(θ₁)⋅sin(θ₂)⋅cos(θ₁)⋅cos(θ₂) + 1.0⋅l₂ ⋅m₁\n",
       "\n",
       "            2     2                         2        2                      2 \n",
       "θ₂)⋅cos(θ₁)⋅θ₁̇  - l₁ ⋅l₂⋅m₂⋅sin(θ₂)⋅cos(θ₂)⋅θ₂̇  + l₁⋅l₂ ⋅m₁⋅sin(θ₁)⋅cos(θ₂)⋅\n",
       "──────────────────────────────────────────────────────────────────────────────\n",
       "    2             2       2        2             2       2    ⎞               \n",
       "⋅sin (θ₁) - 1.0⋅l₂ ⋅m₂⋅sin (θ₁)⋅sin (θ₂) + 1.0⋅l₂ ⋅m₂⋅sin (θ₁)⎠               \n",
       "\n",
       "         2               2               2        2                      2    \n",
       "θ₁̇  - 2⋅l₁⋅l₂ ⋅m₂⋅sin(θ₁)⋅sin (θ₂)⋅cos(θ₁)⋅θ₂̇  + l₁⋅l₂ ⋅m₂⋅sin(θ₁)⋅cos(θ₁)⋅θ\n",
       "──────────────────────────────────────────────────────────────────────────────\n",
       "                                                                              \n",
       "                                                                              \n",
       "\n",
       "    2                      2     3       2                       2⎞\n",
       "₂̇  + l₁⋅l₂ ⋅m₂⋅sin(θ₁)⋅cos(θ₂)⋅θ₁̇  + l₂ ⋅m₂⋅sin (θ₁)⋅sin(θ₂)⋅cos(θ₂)⋅θ₂̇ ⎠\n",
       "───────────────────────────────────────────────────────────────────\n",
       "                                                                   \n",
       "                                                                   "
      ]
     },
     "execution_count": 60,
     "metadata": {},
     "output_type": "execute_result"
    }
   ],
   "source": [
    "acctheta2 = theta_dot2[1].expand()\n",
    "acctheta2 = acctheta2.simplify()\n",
    "acctheta2"
   ]
  },
  {
   "cell_type": "code",
   "execution_count": 61,
   "metadata": {},
   "outputs": [],
   "source": [
    "Nr1, Dr1 = sympy.fraction(acctheta1)\n",
    "Nr2, Dr2 = sympy.fraction(acctheta2)"
   ]
  },
  {
   "cell_type": "code",
   "execution_count": 64,
   "metadata": {},
   "outputs": [],
   "source": [
    "T1, T2, V1, V2 = sympy.symbols('T_1, T_2, V_1, V_2')"
   ]
  },
  {
   "cell_type": "code",
   "execution_count": 80,
   "metadata": {
    "scrolled": true
   },
   "outputs": [
    {
     "name": "stdout",
     "output_type": "stream",
     "text": [
      "l_2*(-1.0*l_1**2*m_1*sin(T_1)**2 + 1.0*l_1**2*m_1 - 1.0*l_1**2*m_2*sin(T_1)**2*sin(T_2)**2 + 1.0*l_1**2*m_2*sin(T_2)**2 - 2.0*l_1*l_2*m_2*sin(T_1)*sin(T_2)*cos(T_1)*cos(T_2) + 1.0*l_2**2*m_1*sin(T_1)**2 - 1.0*l_2**2*m_2*sin(T_1)**2*sin(T_2)**2 + 1.0*l_2**2*m_2*sin(T_1)**2)\n"
     ]
    }
   ],
   "source": [
    "print(Dr2.subs(theta_1_dot, V1).subs(theta_2_dot, V2).subs(theta_1, T1).subs(theta_2, T2))"
   ]
  },
  {
   "cell_type": "code",
   "execution_count": null,
   "metadata": {},
   "outputs": [],
   "source": []
  }
 ],
 "metadata": {
  "kernelspec": {
   "display_name": "Python 3",
   "language": "python",
   "name": "python3"
  },
  "language_info": {
   "codemirror_mode": {
    "name": "ipython",
    "version": 3
   },
   "file_extension": ".py",
   "mimetype": "text/x-python",
   "name": "python",
   "nbconvert_exporter": "python",
   "pygments_lexer": "ipython3",
   "version": "3.7.6"
  }
 },
 "nbformat": 4,
 "nbformat_minor": 4
}
