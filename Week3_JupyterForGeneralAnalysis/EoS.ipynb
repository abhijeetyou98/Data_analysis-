{
 "cells": [
  {
   "cell_type": "markdown",
   "metadata": {},
   "source": [
    "# A first example with Notebooks\n",
    "\n",
    "An equation of state relates $P$, and $v$ with $T$.\n",
    "$$\n",
    "    P = \\frac{RT}{v-b} - \\frac{a \\alpha}{(v+c)(v+d)}\n",
    "$$"
   ]
  },
  {
   "cell_type": "code",
   "execution_count": 7,
   "metadata": {},
   "outputs": [],
   "source": [
    "import sympy\n",
    "sympy.init_printing()"
   ]
  },
  {
   "cell_type": "code",
   "execution_count": 8,
   "metadata": {},
   "outputs": [],
   "source": [
    "P, v, T, R, a, b, c, d, alpha, Z = sympy.symbols('P, v, T, R, a, b, c, d, alpha, Z')"
   ]
  },
  {
   "cell_type": "code",
   "execution_count": 9,
   "metadata": {},
   "outputs": [
    {
     "data": {
      "image/png": "[encoded data removed]",
      "text/latex": [
       "$\\displaystyle \\left( P, \\  T, \\  v, \\  R, \\  a, \\  b, \\  c, \\  d, \\  \\alpha, \\  Z\\right)$"
      ],
      "text/plain": [
       "(P, T, v, R, a, b, c, d, α, Z)"
      ]
     },
     "execution_count": 9,
     "metadata": {},
     "output_type": "execute_result"
    }
   ],
   "source": [
    "P, T, v, R, a, b, c, d, alpha, Z"
   ]
  },
  {
   "cell_type": "code",
   "execution_count": 10,
   "metadata": {},
   "outputs": [
    {
     "data": {
      "image/png": "[encoded data removed]",
      "text/latex": [
       "$\\displaystyle \\left( \\frac{R T}{- b + v}, \\  \\frac{a \\alpha}{\\left(c + v\\right) \\left(d + v\\right)}\\right)$"
      ],
      "text/plain": [
       "⎛ R⋅T          a⋅α      ⎞\n",
       "⎜──────, ───────────────⎟\n",
       "⎝-b + v  (c + v)⋅(d + v)⎠"
      ]
     },
     "execution_count": 10,
     "metadata": {},
     "output_type": "execute_result"
    }
   ],
   "source": [
    "Rep = R*T/(v-b);  Att = a*alpha/(v+c)/(v+d)\n",
    "Rep, Att"
   ]
  },
  {
   "cell_type": "code",
   "execution_count": 13,
   "metadata": {},
   "outputs": [
    {
     "data": {
      "image/png": "[encoded data removed]",
      "text/latex": [
       "$\\displaystyle \\left( - R T \\left(c + v\\right) \\left(d + v\\right) - a \\alpha \\left(b - v\\right), \\  \\left(b - v\\right) \\left(c + v\\right) \\left(d + v\\right)\\right)$"
      ],
      "text/plain": [
       "(-R⋅T⋅(c + v)⋅(d + v) - a⋅α⋅(b - v), (b - v)⋅(c + v)⋅(d + v))"
      ]
     },
     "execution_count": 13,
     "metadata": {},
     "output_type": "execute_result"
    }
   ],
   "source": [
    "RHS = Rep - Att\n",
    "RHS = RHS.simplify()\n",
    "Nr, Dr = sympy.fraction(RHS)\n",
    "Nr, Dr"
   ]
  },
  {
   "cell_type": "code",
   "execution_count": 19,
   "metadata": {},
   "outputs": [
    {
     "data": {
      "image/png": "[encoded data removed]",
      "text/latex": [
       "$\\displaystyle - \\frac{P^{3} b c d}{R^{3} T^{3}} - \\frac{P^{2} Z b c}{R^{2} T^{2}} - \\frac{P^{2} Z b d}{R^{2} T^{2}} + \\frac{P^{2} Z c d}{R^{2} T^{2}} - \\frac{P^{2} c d}{R^{2} T^{2}} - \\frac{P^{2} a \\alpha b}{R^{3} T^{3}} - \\frac{P Z^{2} b}{R T} + \\frac{P Z^{2} c}{R T} + \\frac{P Z^{2} d}{R T} - \\frac{P Z c}{R T} - \\frac{P Z d}{R T} + \\frac{P Z a \\alpha}{R^{2} T^{2}} + Z^{3} - Z^{2}$"
      ],
      "text/plain": [
       "   3          2          2          2          2        2            2        \n",
       "  P ⋅b⋅c⋅d   P ⋅Z⋅b⋅c   P ⋅Z⋅b⋅d   P ⋅Z⋅c⋅d   P ⋅c⋅d   P ⋅a⋅α⋅b   P⋅Z ⋅b   P⋅Z\n",
       "- ──────── - ──────── - ──────── + ──────── - ────── - ──────── - ────── + ───\n",
       "    3  3       2  2       2  2       2  2      2  2      3  3      R⋅T      R⋅\n",
       "   R ⋅T       R ⋅T       R ⋅T       R ⋅T      R ⋅T      R ⋅T                  \n",
       "\n",
       "2        2                                      \n",
       " ⋅c   P⋅Z ⋅d   P⋅Z⋅c   P⋅Z⋅d   P⋅Z⋅a⋅α    3    2\n",
       "─── + ────── - ───── - ───── + ─────── + Z  - Z \n",
       "T      R⋅T      R⋅T     R⋅T      2  2           \n",
       "                                R ⋅T            "
      ]
     },
     "execution_count": 19,
     "metadata": {},
     "output_type": "execute_result"
    }
   ],
   "source": [
    "Exp = P*Dr - Nr\n",
    "Exp = Exp.expand().subs(v, Z*R*T/P)*(-P**2/(R*T)**3)\n",
    "Exp = Exp.expand()\n",
    "Exp"
   ]
  },
  {
   "cell_type": "code",
   "execution_count": 20,
   "metadata": {},
   "outputs": [
    {
     "data": {
      "image/png": "[encoded data removed]",
      "text/latex": [
       "$\\displaystyle 1$"
      ],
      "text/plain": [
       "1"
      ]
     },
     "execution_count": 20,
     "metadata": {},
     "output_type": "execute_result"
    }
   ],
   "source": [
    "Exp.coeff(Z,3)"
   ]
  },
  {
   "cell_type": "code",
   "execution_count": 22,
   "metadata": {},
   "outputs": [
    {
     "data": {
      "image/png": "[encoded data removed]",
      "text/latex": [
       "$\\displaystyle - \\frac{P b}{R T} + \\frac{P c}{R T} + \\frac{P d}{R T} - 1$"
      ],
      "text/plain": [
       "  P⋅b   P⋅c   P⋅d    \n",
       "- ─── + ─── + ─── - 1\n",
       "  R⋅T   R⋅T   R⋅T    "
      ]
     },
     "execution_count": 22,
     "metadata": {},
     "output_type": "execute_result"
    }
   ],
   "source": [
    "A = Exp.coeff(Z, 2)\n",
    "A"
   ]
  },
  {
   "cell_type": "code",
   "execution_count": 23,
   "metadata": {},
   "outputs": [
    {
     "data": {
      "image/png": "[encoded data removed]",
      "text/latex": [
       "$\\displaystyle - \\frac{P^{2} b c}{R^{2} T^{2}} - \\frac{P^{2} b d}{R^{2} T^{2}} + \\frac{P^{2} c d}{R^{2} T^{2}} - \\frac{P c}{R T} - \\frac{P d}{R T} + \\frac{P a \\alpha}{R^{2} T^{2}}$"
      ],
      "text/plain": [
       "   2        2        2                        \n",
       "  P ⋅b⋅c   P ⋅b⋅d   P ⋅c⋅d   P⋅c   P⋅d   P⋅a⋅α\n",
       "- ────── - ────── + ────── - ─── - ─── + ─────\n",
       "   2  2     2  2     2  2    R⋅T   R⋅T    2  2\n",
       "  R ⋅T     R ⋅T     R ⋅T                 R ⋅T "
      ]
     },
     "execution_count": 23,
     "metadata": {},
     "output_type": "execute_result"
    }
   ],
   "source": [
    "B = Exp.coeff(Z, 1)\n",
    "B"
   ]
  },
  {
   "cell_type": "code",
   "execution_count": 24,
   "metadata": {},
   "outputs": [
    {
     "data": {
      "image/png": "[encoded data removed]",
      "text/latex": [
       "$\\displaystyle - \\frac{P^{3} b c d}{R^{3} T^{3}} - \\frac{P^{2} c d}{R^{2} T^{2}} - \\frac{P^{2} a \\alpha b}{R^{3} T^{3}}$"
      ],
      "text/plain": [
       "   3          2        2      \n",
       "  P ⋅b⋅c⋅d   P ⋅c⋅d   P ⋅a⋅α⋅b\n",
       "- ──────── - ────── - ────────\n",
       "    3  3      2  2      3  3  \n",
       "   R ⋅T      R ⋅T      R ⋅T   "
      ]
     },
     "execution_count": 24,
     "metadata": {},
     "output_type": "execute_result"
    }
   ],
   "source": [
    "C = Exp.coeff(Z, 0)\n",
    "C"
   ]
  },
  {
   "cell_type": "code",
   "execution_count": 25,
   "metadata": {},
   "outputs": [
    {
     "name": "stdout",
     "output_type": "stream",
     "text": [
      "-P**3*b*c*d/(R**3*T**3) - P**2*c*d/(R**2*T**2) - P**2*a*alpha*b/(R**3*T**3)\n"
     ]
    }
   ],
   "source": [
    "print(C)"
   ]
  },
  {
   "cell_type": "code",
   "execution_count": null,
   "metadata": {},
   "outputs": [],
   "source": []
  }
 ],
 "metadata": {
  "kernelspec": {
   "display_name": "Python 3",
   "language": "python",
   "name": "python3"
  },
  "language_info": {
   "codemirror_mode": {
    "name": "ipython",
    "version": 3
   },
   "file_extension": ".py",
   "mimetype": "text/x-python",
   "name": "python",
   "nbconvert_exporter": "python",
   "pygments_lexer": "ipython3",
   "version": "3.7.6"
  }
 },
 "nbformat": 4,
 "nbformat_minor": 4
}
